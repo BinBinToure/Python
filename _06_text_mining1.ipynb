{
  "nbformat": 4,
  "nbformat_minor": 0,
  "metadata": {
    "colab": {
      "provenance": [],
      "collapsed_sections": [],
      "include_colab_link": true
    },
    "kernelspec": {
      "name": "python3",
      "display_name": "Python 3"
    },
    "language_info": {
      "name": "python"
    }
  },
  "cells": [
    {
      "cell_type": "markdown",
      "metadata": {
        "id": "view-in-github",
        "colab_type": "text"
      },
      "source": [
        "<a href=\"https://colab.research.google.com/github/BinBinToure/Python/blob/main/_06_text_mining1.ipynb\" target=\"_parent\"><img src=\"https://colab.research.google.com/assets/colab-badge.svg\" alt=\"Open In Colab\"/></a>"
      ]
    },
    {
      "cell_type": "markdown",
      "source": [
        "자연어 연구 관련 라이브러리"
      ],
      "metadata": {
        "id": "FB0AfciHGwoc"
      }
    },
    {
      "cell_type": "code",
      "source": [
        "import nltk\n",
        "nltk.download('punkt')"
      ],
      "metadata": {
        "id": "8_D-j_diG0i8"
      },
      "execution_count": null,
      "outputs": []
    },
    {
      "cell_type": "code",
      "source": [
        "from nltk.tokenize import word_tokenize\n",
        "from nltk.tokenize import WordPunctTokenizer"
      ],
      "metadata": {
        "id": "f5T4gMC2JzYT"
      },
      "execution_count": null,
      "outputs": []
    },
    {
      "cell_type": "code",
      "source": [
        "text = \"I'm a <br>boy</br>. You are a &apos;girl&apos;. He's a student(학생).\"\n",
        "print(word_tokenize(text))\n",
        "tkzer = WordPunctTokenizer()\n",
        "print(tkzer.tokenize(text))"
      ],
      "metadata": {
        "colab": {
          "base_uri": "https://localhost:8080/"
        },
        "id": "gHueVhl1I42E",
        "outputId": "67a0a3ba-0c08-416d-cb51-8578f7271916"
      },
      "execution_count": null,
      "outputs": [
        {
          "output_type": "stream",
          "name": "stdout",
          "text": [
            "['I', \"'m\", 'a', '<', 'br', '>', 'boy', '<', '/br', '>', '.', 'You', 'are', 'a', '&', 'apos', ';', 'girl', '&', 'apos', ';', '.', 'He', \"'s\", 'a', 'student', '(', '학생', ')', '.']\n",
            "['I', \"'\", 'm', 'a', '<', 'br', '>', 'boy', '</', 'br', '>.', 'You', 'are', 'a', '&', 'apos', ';', 'girl', '&', 'apos', ';.', 'He', \"'\", 's', 'a', 'student', '(', '학생', ').']\n"
          ]
        }
      ]
    },
    {
      "cell_type": "code",
      "source": [
        "from tensorflow.keras.preprocessing.text import text_to_word_sequence\n",
        "print(text_to_word_sequence(text))"
      ],
      "metadata": {
        "colab": {
          "base_uri": "https://localhost:8080/"
        },
        "id": "cZKcpx4JLzWq",
        "outputId": "b0e635b1-faf7-46b4-af92-9d34ad861da1"
      },
      "execution_count": null,
      "outputs": [
        {
          "output_type": "stream",
          "name": "stdout",
          "text": [
            "[\"i'm\", 'a', 'br', 'boy', 'br', 'you', 'are', 'a', 'apos', 'girl', 'apos', \"he's\", 'a', 'student', '학생']\n"
          ]
        }
      ]
    },
    {
      "cell_type": "code",
      "source": [
        "!pip install konlpy"
      ],
      "metadata": {
        "colab": {
          "base_uri": "https://localhost:8080/"
        },
        "id": "9Bc8zR7MMtFh",
        "outputId": "ae8d3d71-1ce1-4c4f-f2bb-23b23ef78fa0"
      },
      "execution_count": null,
      "outputs": [
        {
          "output_type": "stream",
          "name": "stdout",
          "text": [
            "Looking in indexes: https://pypi.org/simple, https://us-python.pkg.dev/colab-wheels/public/simple/\n",
            "Requirement already satisfied: konlpy in /usr/local/lib/python3.7/dist-packages (0.6.0)\n",
            "Requirement already satisfied: lxml>=4.1.0 in /usr/local/lib/python3.7/dist-packages (from konlpy) (4.9.1)\n",
            "Requirement already satisfied: numpy>=1.6 in /usr/local/lib/python3.7/dist-packages (from konlpy) (1.21.6)\n",
            "Requirement already satisfied: JPype1>=0.7.0 in /usr/local/lib/python3.7/dist-packages (from konlpy) (1.4.0)\n",
            "Requirement already satisfied: typing-extensions in /usr/local/lib/python3.7/dist-packages (from JPype1>=0.7.0->konlpy) (4.1.1)\n"
          ]
        }
      ]
    },
    {
      "cell_type": "code",
      "source": [
        "import konlpy\n",
        "from konlpy.tag import Hannanum"
      ],
      "metadata": {
        "id": "xU0zML05OUb4"
      },
      "execution_count": null,
      "outputs": []
    },
    {
      "cell_type": "code",
      "source": [
        "text2 = \"나는 집에 갑니다. 우리는 집으로 갑니다.\"\n",
        "print(word_tokenize(text2))\n",
        "print(tkzer.tokenize(text2))\n",
        "print(text_to_word_sequence(text2))\n",
        "han = Hannanum()\n",
        "print(han.morphs(text2))"
      ],
      "metadata": {
        "colab": {
          "base_uri": "https://localhost:8080/"
        },
        "id": "I-GyLEJLOdW4",
        "outputId": "b85e8511-461e-48c6-c9e5-3be1457212e5"
      },
      "execution_count": null,
      "outputs": [
        {
          "output_type": "stream",
          "name": "stdout",
          "text": [
            "['나는', '집에', '갑니다', '.', '우리는', '집으로', '갑니다', '.']\n",
            "['나는', '집에', '갑니다', '.', '우리는', '집으로', '갑니다', '.']\n",
            "['나는', '집에', '갑니다', '우리는', '집으로', '갑니다']\n",
            "['나', '는', '집', '에', '가', 'ㅂ니다', '.', '우리', '는', '집', '으로', '가', 'ㅂ니다', '.']\n"
          ]
        }
      ]
    },
    {
      "cell_type": "code",
      "source": [
        "print(han.pos(text2))"
      ],
      "metadata": {
        "colab": {
          "base_uri": "https://localhost:8080/"
        },
        "id": "X93vtD2BPWz7",
        "outputId": "54f4d088-b357-49a9-e31e-7d3b46478c34"
      },
      "execution_count": null,
      "outputs": [
        {
          "output_type": "stream",
          "name": "stdout",
          "text": [
            "[('나', 'N'), ('는', 'J'), ('집', 'N'), ('에', 'J'), ('가', 'P'), ('ㅂ니다', 'E'), ('.', 'S'), ('우리', 'N'), ('는', 'J'), ('집', 'N'), ('으로', 'J'), ('가', 'P'), ('ㅂ니다', 'E'), ('.', 'S')]\n"
          ]
        }
      ]
    },
    {
      "cell_type": "code",
      "source": [
        "print(han.nouns(text2))"
      ],
      "metadata": {
        "colab": {
          "base_uri": "https://localhost:8080/"
        },
        "id": "9kZtd8TLP4_I",
        "outputId": "e34e439e-ea7e-40e5-e7df-0f932b868e0f"
      },
      "execution_count": null,
      "outputs": [
        {
          "output_type": "stream",
          "name": "stdout",
          "text": [
            "['나', '집', '우리', '집']\n"
          ]
        }
      ]
    },
    {
      "cell_type": "markdown",
      "source": [
        "네이버 개발자 센터-뉴스검색(JSON)"
      ],
      "metadata": {
        "id": "MGABjFR0P_qB"
      }
    },
    {
      "cell_type": "code",
      "source": [
        "client_id = '' #자신이 발급받은 client id로 수정~~\n",
        "client_secret ='' #자신이 발급받은 client secret으로 수정~~"
      ],
      "metadata": {
        "id": "0MfdsUCjQGUn"
      },
      "execution_count": null,
      "outputs": []
    },
    {
      "cell_type": "markdown",
      "source": [
        "쿼리문자열 : 사이트 주소와 인자를 합쳐서 표현한 문자열\n",
        "\n",
        "사이트주소?인자목록\n",
        "\n",
        "인자와 인자는 &로 구분한다.\n",
        "\n",
        "인자는 key=value 형태로 나타낸다.\n",
        "\n",
        "예) 사이트 주소:a, 인자1:키-k1,값-v1, 인자2:키-k2,값-v2\n",
        "\n",
        "a?k1=v1&k2=v2"
      ],
      "metadata": {
        "id": "CcxrapXYQjSh"
      }
    },
    {
      "cell_type": "code",
      "source": [
        "site_url = 'https://openapi.naver.com/v1/search/news.json'"
      ],
      "metadata": {
        "id": "mYJgMFeOQcAJ"
      },
      "execution_count": null,
      "outputs": []
    },
    {
      "cell_type": "code",
      "source": [
        "import urllib.request"
      ],
      "metadata": {
        "id": "HeSUKTRiSVrO"
      },
      "execution_count": null,
      "outputs": []
    },
    {
      "cell_type": "code",
      "source": [
        "res = urllib.request.urlopen(\"http://google.com\") #웹 페이지 요청\n",
        "print(res.read())#요청 결과를 바이너리로 읽기"
      ],
      "metadata": {
        "colab": {
          "base_uri": "https://localhost:8080/"
        },
        "id": "1ZEFLY3oSYg1",
        "outputId": "c109b09a-a601-4ed5-b28c-8fb9c4100f51"
      },
      "execution_count": null,
      "outputs": [
        {
          "output_type": "stream",
          "name": "stdout",
          "text": [
            "b'<!doctype html><html itemscope=\"\" itemtype=\"http://schema.org/WebPage\" lang=\"en\"><head><meta content=\"Search the world\\'s information, including webpages, images, videos and more. Google has many special features to help you find exactly what you\\'re looking for.\" name=\"description\"><meta content=\"noodp\" name=\"robots\"><meta content=\"text/html; charset=UTF-8\" http-equiv=\"Content-Type\"><meta content=\"/images/branding/googleg/1x/googleg_standard_color_128dp.png\" itemprop=\"image\"><title>Google</title><script nonce=\"63Z9XaiUdjZ731pKZ-G0sA\">(function(){window.google={kEI:\\'sN9MY4ynF_bCqtsP68iF8Aw\\',kEXPI:\\'0,1302536,56873,6059,206,4804,2316,383,246,5,5367,1123753,1197703,698,380089,16115,28684,22431,1361,12316,17583,4998,13228,3847,10622,22743,5079,1593,1279,2742,149,1103,840,1983,4314,109,3405,606,2023,1733,43,521,14670,3227,2845,7,5599,23475,4696,1851,15324,432,3,1590,1,5445,803,10668,2652,4,1528,2304,7039,20309,1714,5708,4164,3192,13659,2980,1457,15351,1435,5770,2587,4094,17,4035,3,3541,1,42154,2,14022,2373,342,11401,11623,5679,1021,2378,28744,4567,6253,23424,1249,5838,14968,4332,2204,5280,445,2,2,1,26632,8155,7381,2,3,15965,873,9625,10008,9,1920,5784,3995,19130,12192,4832,7934,9081,123,700,4,1,2,2,2,2,8653,927,4336,5134,1416,45,6259,2,2017,14,82,950,1758,1182,751,201,1867,124,7433,51,2197,488,922,861,1080,450,363,467,118,565,899,2433,274,217,743,499,13,7,3,86,456,1125,1538,208,2039,1052,1964,49,1281,634,225,700,847,2,43,1,577,260,983,726,455,1198,108,1443,299,814,78,264,165,717,10,308,853,832,397,236,107,423,30,99,235,227,296,227,30,514,12,1,70,786,1268,268,452,56,2,49,241,188,2,90,306,186,2,339,436,3,18,144,100,49,291,150,277,860,111,183,681,17,115,530,7,55,618,1046,5325628,29,108,5995762,2803379,3311,141,795,19736,1,298,48,1754,61,16,7,3,4,3,4,111,7451662,16496859,472,2861555,1180116,1964,3094,13578,3406,11319\\',kBL:\\'stdm\\'};google.sn=\\'webhp\\';google.kHL=\\'en\\';})();(function(){\\nvar f=this||self;var h,k=[];function l(a){for(var b;a&&(!a.getAttribute||!(b=a.getAttribute(\"eid\")));)a=a.parentNode;return b||h}function m(a){for(var b=null;a&&(!a.getAttribute||!(b=a.getAttribute(\"leid\")));)a=a.parentNode;return b}\\nfunction n(a,b,c,d,g){var e=\"\";c||-1!==b.search(\"&ei=\")||(e=\"&ei=\"+l(d),-1===b.search(\"&lei=\")&&(d=m(d))&&(e+=\"&lei=\"+d));d=\"\";!c&&f._cshid&&-1===b.search(\"&cshid=\")&&\"slh\"!==a&&(d=\"&cshid=\"+f._cshid);c=c||\"/\"+(g||\"gen_204\")+\"?atyp=i&ct=\"+a+\"&cad=\"+b+e+\"&zx=\"+Date.now()+d;/^http:/i.test(c)&&\"https:\"===window.location.protocol&&(google.ml&&google.ml(Error(\"a\"),!1,{src:c,glmm:1}),c=\"\");return c};h=google.kEI;google.getEI=l;google.getLEI=m;google.ml=function(){return null};google.log=function(a,b,c,d,g){if(c=n(a,b,c,d,g)){a=new Image;var e=k.length;k[e]=a;a.onerror=a.onload=a.onabort=function(){delete k[e]};a.src=c}};google.logUrl=n;}).call(this);(function(){\\ngoogle.y={};google.sy=[];google.x=function(a,b){if(a)var c=a.id;else{do c=Math.random();while(google.y[c])}google.y[c]=[a,b];return!1};google.sx=function(a){google.sy.push(a)};google.lm=[];google.plm=function(a){google.lm.push.apply(google.lm,a)};google.lq=[];google.load=function(a,b,c){google.lq.push([[a],b,c])};google.loadAll=function(a,b){google.lq.push([a,b])};google.bx=!1;google.lx=function(){};}).call(this);google.f={};(function(){\\ndocument.documentElement.addEventListener(\"submit\",function(b){var a;if(a=b.target){var c=a.getAttribute(\"data-submitfalse\");a=\"1\"===c||\"q\"===c&&!a.elements.q.value?!0:!1}else a=!1;a&&(b.preventDefault(),b.stopPropagation())},!0);document.documentElement.addEventListener(\"click\",function(b){var a;a:{for(a=b.target;a&&a!==document.documentElement;a=a.parentElement)if(\"A\"===a.tagName){a=\"1\"===a.getAttribute(\"data-nohref\");break a}a=!1}a&&b.preventDefault()},!0);}).call(this);</script><style>#gbar,#guser{font-size:13px;padding-top:1px !important;}#gbar{height:22px}#guser{padding-bottom:7px !important;text-align:right}.gbh,.gbd{border-top:1px solid #c9d7f1;font-size:1px}.gbh{height:0;position:absolute;top:24px;width:100%}@media all{.gb1{height:22px;margin-right:.5em;vertical-align:top}#gbar{float:left}}a.gb1,a.gb4{text-decoration:underline !important}a.gb1,a.gb4{color:#00c !important}.gbi .gb4{color:#dd8e27 !important}.gbf .gb4{color:#900 !important}\\n</style><style>body,td,a,p,.h{font-family:arial,sans-serif}body{margin:0;overflow-y:scroll}#gog{padding:3px 8px 0}td{line-height:.8em}.gac_m td{line-height:17px}form{margin-bottom:20px}.h{color:#1558d6}em{font-weight:bold;font-style:normal}.lst{height:25px;width:496px}.gsfi,.lst{font:18px arial,sans-serif}.gsfs{font:17px arial,sans-serif}.ds{display:inline-box;display:inline-block;margin:3px 0 4px;margin-left:4px}input{font-family:inherit}body{background:#fff;color:#000}a{color:#4b11a8;text-decoration:none}a:hover,a:active{text-decoration:underline}.fl a{color:#1558d6}a:visited{color:#4b11a8}.sblc{padding-top:5px}.sblc a{display:block;margin:2px 0;margin-left:13px;font-size:11px}.lsbb{background:#f8f9fa;border:solid 1px;border-color:#dadce0 #70757a #70757a #dadce0;height:30px}.lsbb{display:block}#WqQANb a{display:inline-block;margin:0 12px}.lsb{background:url(/images/nav_logo229.png) 0 -261px repeat-x;border:none;color:#000;cursor:pointer;height:30px;margin:0;outline:0;font:15px arial,sans-serif;vertical-align:top}.lsb:active{background:#dadce0}.lst:focus{outline:none}</style><script nonce=\"63Z9XaiUdjZ731pKZ-G0sA\">(function(){window.google.erd={jsr:1,bv:1669,de:true};\\nvar h=this||self;var k,l=null!=(k=h.mei)?k:1,n,p=null!=(n=h.sdo)?n:!0,q=0,r,t=google.erd,v=t.jsr;google.ml=function(a,b,d,m,e){e=void 0===e?2:e;b&&(r=a&&a.message);if(google.dl)return google.dl(a,e,d),null;if(0>v){window.console&&console.error(a,d);if(-2===v)throw a;b=!1}else b=!a||!a.message||\"Error loading script\"===a.message||q>=l&&!m?!1:!0;if(!b)return null;q++;d=d||{};b=encodeURIComponent;var c=\"/gen_204?atyp=i&ei=\"+b(google.kEI);google.kEXPI&&(c+=\"&jexpid=\"+b(google.kEXPI));c+=\"&srcpg=\"+b(google.sn)+\"&jsr=\"+b(t.jsr)+\"&bver=\"+b(t.bv);var f=a.lineNumber;void 0!==f&&(c+=\"&line=\"+f);var g=\\na.fileName;g&&(0<g.indexOf(\"-extension:/\")&&(e=3),c+=\"&script=\"+b(g),f&&g===window.location.href&&(f=document.documentElement.outerHTML.split(\"\\\\n\")[f],c+=\"&cad=\"+b(f?f.substring(0,300):\"No script found.\")));c+=\"&jsel=\"+e;for(var u in d)c+=\"&\",c+=b(u),c+=\"=\",c+=b(d[u]);c=c+\"&emsg=\"+b(a.name+\": \"+a.message);c=c+\"&jsst=\"+b(a.stack||\"N/A\");12288<=c.length&&(c=c.substr(0,12288));a=c;m||google.log(0,\"\",a);return a};window.onerror=function(a,b,d,m,e){r!==a&&(a=e instanceof Error?e:Error(a),void 0===d||\"lineNumber\"in a||(a.lineNumber=d),void 0===b||\"fileName\"in a||(a.fileName=b),google.ml(a,!1,void 0,!1,\"SyntaxError\"===a.name||\"SyntaxError\"===a.message.substring(0,11)||-1!==a.message.indexOf(\"Script error\")?2:0));r=null;p&&q>=l&&(window.onerror=null)};})();</script></head><body bgcolor=\"#fff\"><script nonce=\"63Z9XaiUdjZ731pKZ-G0sA\">(function(){var src=\\'/images/nav_logo229.png\\';var iesg=false;document.body.onload = function(){window.n && window.n();if (document.images){new Image().src=src;}\\nif (!iesg){document.f&&document.f.q.focus();document.gbqf&&document.gbqf.q.focus();}\\n}\\n})();</script><div id=\"mngb\"><div id=gbar><nobr><b class=gb1>Search</b> <a class=gb1 href=\"http://www.google.com/imghp?hl=en&tab=wi\">Images</a> <a class=gb1 href=\"http://maps.google.com/maps?hl=en&tab=wl\">Maps</a> <a class=gb1 href=\"https://play.google.com/?hl=en&tab=w8\">Play</a> <a class=gb1 href=\"https://www.youtube.com/?tab=w1\">YouTube</a> <a class=gb1 href=\"https://news.google.com/?tab=wn\">News</a> <a class=gb1 href=\"https://mail.google.com/mail/?tab=wm\">Gmail</a> <a class=gb1 href=\"https://drive.google.com/?tab=wo\">Drive</a> <a class=gb1 style=\"text-decoration:none\" href=\"https://www.google.com/intl/en/about/products?tab=wh\"><u>More</u> &raquo;</a></nobr></div><div id=guser width=100%><nobr><span id=gbn class=gbi></span><span id=gbf class=gbf></span><span id=gbe></span><a href=\"http://www.google.com/history/optout?hl=en\" class=gb4>Web History</a> | <a  href=\"/preferences?hl=en\" class=gb4>Settings</a> | <a target=_top id=gb_70 href=\"https://accounts.google.com/ServiceLogin?hl=en&passive=true&continue=http://www.google.com/&ec=GAZAAQ\" class=gb4>Sign in</a></nobr></div><div class=gbh style=left:0></div><div class=gbh style=right:0></div></div><center><br clear=\"all\" id=\"lgpd\"><div id=\"lga\"><img alt=\"Google\" height=\"92\" src=\"/images/branding/googlelogo/1x/googlelogo_white_background_color_272x92dp.png\" style=\"padding:28px 0 14px\" width=\"272\" id=\"hplogo\"><br><br></div><form action=\"/search\" name=\"f\"><table cellpadding=\"0\" cellspacing=\"0\"><tr valign=\"top\"><td width=\"25%\">&nbsp;</td><td align=\"center\" nowrap=\"\"><input name=\"ie\" value=\"ISO-8859-1\" type=\"hidden\"><input value=\"en\" name=\"hl\" type=\"hidden\"><input name=\"source\" type=\"hidden\" value=\"hp\"><input name=\"biw\" type=\"hidden\"><input name=\"bih\" type=\"hidden\"><div class=\"ds\" style=\"height:32px;margin:4px 0\"><input class=\"lst\" style=\"margin:0;padding:5px 8px 0 6px;vertical-align:top;color:#000\" autocomplete=\"off\" value=\"\" title=\"Google Search\" maxlength=\"2048\" name=\"q\" size=\"57\"></div><br style=\"line-height:0\"><span class=\"ds\"><span class=\"lsbb\"><input class=\"lsb\" value=\"Google Search\" name=\"btnG\" type=\"submit\"></span></span><span class=\"ds\"><span class=\"lsbb\"><input class=\"lsb\" id=\"tsuid_1\" value=\"I\\'m Feeling Lucky\" name=\"btnI\" type=\"submit\"><script nonce=\"63Z9XaiUdjZ731pKZ-G0sA\">(function(){var id=\\'tsuid_1\\';document.getElementById(id).onclick = function(){if (this.form.q.value){this.checked = 1;if (this.form.iflsig)this.form.iflsig.disabled = false;}\\nelse top.location=\\'/doodles/\\';};})();</script><input value=\"AJiK0e8AAAAAY0ztwP48xCfO0q7hb6AFhNb5Y3E9BsJB\" name=\"iflsig\" type=\"hidden\"></span></span></td><td class=\"fl sblc\" align=\"left\" nowrap=\"\" width=\"25%\"><a href=\"/advanced_search?hl=en&amp;authuser=0\">Advanced search</a></td></tr></table><input id=\"gbv\" name=\"gbv\" type=\"hidden\" value=\"1\"><script nonce=\"63Z9XaiUdjZ731pKZ-G0sA\">(function(){\\nvar a,b=\"1\";if(document&&document.getElementById)if(\"undefined\"!=typeof XMLHttpRequest)b=\"2\";else if(\"undefined\"!=typeof ActiveXObject){var c,d,e=[\"MSXML2.XMLHTTP.6.0\",\"MSXML2.XMLHTTP.3.0\",\"MSXML2.XMLHTTP\",\"Microsoft.XMLHTTP\"];for(c=0;d=e[c++];)try{new ActiveXObject(d),b=\"2\"}catch(h){}}a=b;if(\"2\"==a&&-1==location.search.indexOf(\"&gbv=2\")){var f=google.gbvu,g=document.getElementById(\"gbv\");g&&(g.value=a);f&&window.setTimeout(function(){location.href=f},0)};}).call(this);</script></form><div id=\"gac_scont\"></div><div style=\"font-size:83%;min-height:3.5em\"><br></div><span id=\"footer\"><div style=\"font-size:10pt\"><div style=\"margin:19px auto;text-align:center\" id=\"WqQANb\"><a href=\"/intl/en/ads/\">Advertising\\xa0Programs</a><a href=\"/services/\">Business Solutions</a><a href=\"/intl/en/about.html\">About Google</a></div></div><p style=\"font-size:8pt;color:#70757a\">&copy; 2022 - <a href=\"/intl/en/policies/privacy/\">Privacy</a> - <a href=\"/intl/en/policies/terms/\">Terms</a></p></span></center><script nonce=\"63Z9XaiUdjZ731pKZ-G0sA\">(function(){window.google.cdo={height:757,width:1440};(function(){\\nvar a=window.innerWidth,b=window.innerHeight;if(!a||!b){var c=window.document,d=\"CSS1Compat\"==c.compatMode?c.documentElement:c.body;a=d.clientWidth;b=d.clientHeight}a&&b&&(a!=google.cdo.width||b!=google.cdo.height)&&google.log(\"\",\"\",\"/client_204?&atyp=i&biw=\"+a+\"&bih=\"+b+\"&ei=\"+google.kEI);}).call(this);})();</script> <script nonce=\"63Z9XaiUdjZ731pKZ-G0sA\">(function(){google.xjs={ck:\\'xjs.hp.iHfCprUw_lc.L.X.O\\',cs:\\'ACT90oFv86eiuOAuoorNWPW7kRyYbY9SbQ\\',excm:[]};})();</script>  <script nonce=\"63Z9XaiUdjZ731pKZ-G0sA\">(function(){var u=\\'/xjs/_/js/k\\\\x3dxjs.hp.en_US.VW3bwV24fwA.O/am\\\\x3dAAB0AgBQAKAC/d\\\\x3d1/ed\\\\x3d1/rs\\\\x3dACT90oGDaVzVrxMpEy8ZDEHQmY0bn2PAew/m\\\\x3dsb_he,d\\';\\nvar d=this||self,e=function(a){return a};\\nvar g;var l=function(a,b){this.g=b===h?a:\"\"};l.prototype.toString=function(){return this.g+\"\"};var h={};function n(){var a=u;google.lx=function(){p(a);google.lx=function(){}};google.bx||google.lx()}\\nfunction p(a){google.timers&&google.timers.load&&google.tick&&google.tick(\"load\",\"xjsls\");var b=document;var c=\"SCRIPT\";\"application/xhtml+xml\"===b.contentType&&(c=c.toLowerCase());c=b.createElement(c);if(void 0===g){b=null;var k=d.trustedTypes;if(k&&k.createPolicy){try{b=k.createPolicy(\"goog#html\",{createHTML:e,createScript:e,createScriptURL:e})}catch(q){d.console&&d.console.error(q.message)}g=b}else g=b}a=(b=g)?b.createScriptURL(a):a;a=new l(a,h);c.src=a instanceof l&&a.constructor===l?a.g:\"type_error:TrustedResourceUrl\";var f,m;(f=(a=null==(m=(f=(c.ownerDocument&&c.ownerDocument.defaultView||window).document).querySelector)?void 0:m.call(f,\"script[nonce]\"))?a.nonce||a.getAttribute(\"nonce\")||\"\":\"\")&&c.setAttribute(\"nonce\",f);document.body.appendChild(c);google.psa=!0};google.xjsu=u;setTimeout(function(){n()},0);})();function _DumpException(e){throw e;}\\nfunction _F_installCss(c){}\\n(function(){google.jl={blt:\\'none\\',chnk:0,dw:false,dwu:true,emtn:0,end:0,ine:false,injs:\\'none\\',injt:0,injth:0,injv2:false,lls:\\'default\\',pdt:0,rep:0,snet:true,strt:0,ubm:false,uwp:true};})();(function(){var pmc=\\'{\\\\x22d\\\\x22:{},\\\\x22sb_he\\\\x22:{\\\\x22agen\\\\x22:true,\\\\x22cgen\\\\x22:true,\\\\x22client\\\\x22:\\\\x22heirloom-hp\\\\x22,\\\\x22dh\\\\x22:true,\\\\x22dhqt\\\\x22:true,\\\\x22ds\\\\x22:\\\\x22\\\\x22,\\\\x22ffql\\\\x22:\\\\x22en\\\\x22,\\\\x22fl\\\\x22:true,\\\\x22host\\\\x22:\\\\x22google.com\\\\x22,\\\\x22isbh\\\\x22:28,\\\\x22jsonp\\\\x22:true,\\\\x22msgs\\\\x22:{\\\\x22cibl\\\\x22:\\\\x22Clear Search\\\\x22,\\\\x22dym\\\\x22:\\\\x22Did you mean:\\\\x22,\\\\x22lcky\\\\x22:\\\\x22I\\\\\\\\u0026#39;m Feeling Lucky\\\\x22,\\\\x22lml\\\\x22:\\\\x22Learn more\\\\x22,\\\\x22oskt\\\\x22:\\\\x22Input tools\\\\x22,\\\\x22psrc\\\\x22:\\\\x22This search was removed from your \\\\\\\\u003Ca href\\\\x3d\\\\\\\\\\\\x22/history\\\\\\\\\\\\x22\\\\\\\\u003EWeb History\\\\\\\\u003C/a\\\\\\\\u003E\\\\x22,\\\\x22psrl\\\\x22:\\\\x22Remove\\\\x22,\\\\x22sbit\\\\x22:\\\\x22Search by image\\\\x22,\\\\x22srch\\\\x22:\\\\x22Google Search\\\\x22},\\\\x22ovr\\\\x22:{},\\\\x22pq\\\\x22:\\\\x22\\\\x22,\\\\x22refpd\\\\x22:true,\\\\x22rfs\\\\x22:[],\\\\x22sbas\\\\x22:\\\\x220 3px 8px 0 rgba(0,0,0,0.2),0 0 0 1px rgba(0,0,0,0.08)\\\\x22,\\\\x22sbpl\\\\x22:16,\\\\x22sbpr\\\\x22:16,\\\\x22scd\\\\x22:10,\\\\x22stok\\\\x22:\\\\x22RaECxiHmCLXdaUYExmRFBBTImIc\\\\x22,\\\\x22uhde\\\\x22:false}}\\';google.pmc=JSON.parse(pmc);})();</script>        </body></html>'\n"
          ]
        }
      ]
    },
    {
      "cell_type": "markdown",
      "source": [
        "웹 요청 시에 사이트 주소 외에 다른 요소를 추가로 전달해야 할 때"
      ],
      "metadata": {
        "id": "bK3mMRpuS1yN"
      }
    },
    {
      "cell_type": "code",
      "source": [
        "def search_news_naver(text,start=1):\n",
        "  query = urllib.parse.quote(text)#utf-8 인코딩\n",
        "  query_str = f\"https://openapi.naver.com/v1/search/news.json?query={query}&display=100&start={start}&sort=sim\"\n",
        "  request = urllib.request.Request(query_str) #웹 요청 개체 생성\n",
        "  request.add_header(\"X-Naver-Client-Id\",client_id)\n",
        "  request.add_header(\"X-Naver-Client-Secret\",client_secret)\n",
        "  response = urllib.request.urlopen(request) #웹 요청\n",
        "  if response.getcode()!=200:\n",
        "    return None\n",
        "  return response.read()"
      ],
      "metadata": {
        "id": "y1N9OavuS8SI"
      },
      "execution_count": null,
      "outputs": []
    },
    {
      "cell_type": "code",
      "source": [
        "def remove_tag(text):\n",
        "  while True:\n",
        "    st = text.find('<')\n",
        "    if st == -1: #없을 때\n",
        "      return text\n",
        "    et = text.find('>')\n",
        "    if st<et:\n",
        "      text = text[:st]+text[et+1:]\n",
        "    else:\n",
        "      text = text[:et]+text[et+1:] #다음의 내용은 모두 날라감(버그~~~)\"< 어디?</title> \"\n",
        "  return text"
      ],
      "metadata": {
        "id": "TArWxE07bD1x"
      },
      "execution_count": null,
      "outputs": []
    },
    {
      "cell_type": "code",
      "source": [
        "def remove_html_symbol(text):\n",
        "  while True:\n",
        "    st = text.find('&')\n",
        "    if st == -1: #없을 때\n",
        "      return text\n",
        "    et = text.find(';')\n",
        "    if st<et:\n",
        "      text = text[:st]+text[et+1:]\n",
        "    else:\n",
        "      text = text[:et]+text[et+1:] #다음의 내용은 모두 날라감(버그~~~)\"< 어디?</title> \"\n",
        "  return text"
      ],
      "metadata": {
        "id": "AL1fAM79dL4J"
      },
      "execution_count": null,
      "outputs": []
    },
    {
      "cell_type": "code",
      "source": [
        "import re\n",
        "def symbol2space(text):\n",
        "  return re.sub(r\"[^ㄱ-힣0-9a-zA-Z\\s]\",\" \",text)"
      ],
      "metadata": {
        "id": "Z4_I4hbOm8w8"
      },
      "execution_count": null,
      "outputs": []
    },
    {
      "cell_type": "code",
      "source": [
        "def remove_html(text):\n",
        "  text = remove_tag(text)\n",
        "  text = remove_html_symbol(text)\n",
        "  text = symbol2space(text)\n",
        "  return text"
      ],
      "metadata": {
        "id": "0eNHrZStdfKw"
      },
      "execution_count": null,
      "outputs": []
    },
    {
      "cell_type": "code",
      "source": [
        "class News:\n",
        "  def __init__(self,news):\n",
        "    self.title = remove_html(news['title'])\n",
        "    self.description = remove_html(news['description'])\n",
        "    self.link = news['link']\n",
        "  def __str__(self):\n",
        "    return \"=== 제목:\"+self.title+\"===\\n\"+self.description"
      ],
      "metadata": {
        "id": "MirShQrSYmSr"
      },
      "execution_count": null,
      "outputs": []
    },
    {
      "cell_type": "code",
      "source": [
        "def search_news_count(text):\n",
        "  bdata = search_news_naver(text)\n",
        "  if bdata == None:\n",
        "    return 0\n",
        "  dec_data = bdata.decode('utf-8') #utf-8로 디코딩\n",
        "  jdata = json.loads(dec_data)\n",
        "  return int(jdata['total'])"
      ],
      "metadata": {
        "id": "_9BB3KfRjuM1"
      },
      "execution_count": null,
      "outputs": []
    },
    {
      "cell_type": "code",
      "source": [
        "text = input(\"질의:\")\n",
        "print(search_news_count(text))"
      ],
      "metadata": {
        "colab": {
          "base_uri": "https://localhost:8080/"
        },
        "id": "DuMJbtWOj71A",
        "outputId": "1373d0b7-111b-4876-b2d5-4622825d316b"
      },
      "execution_count": null,
      "outputs": [
        {
          "output_type": "stream",
          "name": "stdout",
          "text": [
            "질의:ehpub\n",
            "0\n"
          ]
        }
      ]
    },
    {
      "cell_type": "code",
      "source": [
        "import json\n",
        "def search_news(text,last_start=1000): #last_start는 1000보다 작거나 같아야 함\n",
        "  tcnt = search_news_count(text) #전체 뉴스 개수\n",
        "  rcnt = 0\n",
        "  start = 1\n",
        "  re=[]\n",
        "  while (rcnt<tcnt)and (start<=last_start):\n",
        "    bdata = search_news_naver(text,start)\n",
        "    if bdata == None:\n",
        "      return  re\n",
        "    dec_data = bdata.decode('utf-8') #utf-8로 디코딩\n",
        "    jdata = json.loads(dec_data)\n",
        "    for news in jdata['items']:\n",
        "      re.append(News(news))\n",
        "    start+=1\n",
        "    rcnt +=100\n",
        "  return re"
      ],
      "metadata": {
        "id": "d7oLxtsEY8cq"
      },
      "execution_count": null,
      "outputs": []
    },
    {
      "cell_type": "code",
      "source": [
        "#조사나 어미 등은 배제한다면 보다 Good\n",
        "text = input(\"검색:\")\n",
        "words = []\n",
        "for news in search_news(text,2):\n",
        "  words+=han.morphs(news.title)\n",
        "  words+=han.morphs(news.description)\n",
        "s = pd.Series(words) \n",
        "sc = s.value_counts()\n",
        "for i in range(50):\n",
        "  print(sc.index[i],\":\",sc.values[i])"
      ],
      "metadata": {
        "id": "xhtz8jdZX25q"
      },
      "execution_count": null,
      "outputs": []
    },
    {
      "cell_type": "code",
      "source": [
        "text = input(\"검색:\")\n",
        "words = []\n",
        "for news in search_news(text,2):\n",
        "  words+=news.title.split(' ')\n",
        "  words+=news.description.split(' ')\n",
        "s = pd.Series(words) \n",
        "s = s[s!='']\n",
        "sc = s.value_counts()\n",
        "for i in range(50):\n",
        "  print(sc.index[i],\":\",sc.values[i])"
      ],
      "metadata": {
        "id": "lTQWESOvodfj"
      },
      "execution_count": null,
      "outputs": []
    },
    {
      "cell_type": "code",
      "source": [
        "!sudo apt-get install -y fonts-nanum\n",
        "!sudo fc-cache -fv\n",
        "!rm ~/.cache/matplotlib -rf"
      ],
      "metadata": {
        "id": "zbqjGNCyrL6o"
      },
      "execution_count": null,
      "outputs": []
    },
    {
      "cell_type": "code",
      "source": [
        "from wordcloud import WordCloud\n",
        "wc = WordCloud(width=400, height=400,font_path='/usr/share/fonts/truetype/nanum/NanumBarunGothic.ttf')\n",
        "wc.generate_from_frequencies(sc)\n",
        "wc.to_file('test.jpg')"
      ],
      "metadata": {
        "colab": {
          "base_uri": "https://localhost:8080/"
        },
        "id": "KGO3RcOcqO1R",
        "outputId": "253e241b-e260-466a-feda-99b131c37669"
      },
      "execution_count": null,
      "outputs": [
        {
          "output_type": "execute_result",
          "data": {
            "text/plain": [
              "<wordcloud.wordcloud.WordCloud at 0x7effc7da4c90>"
            ]
          },
          "metadata": {},
          "execution_count": 337
        }
      ]
    },
    {
      "cell_type": "code",
      "source": [
        "import cv2\n",
        "from google.colab.patches import cv2_imshow\n",
        "\n",
        "img = cv2.imread('test.jpg',cv2.IMREAD_COLOR)\n",
        "cv2_imshow(img)"
      ],
      "metadata": {
        "id": "EeEkuXEOtE4Y"
      },
      "execution_count": null,
      "outputs": []
    },
    {
      "cell_type": "code",
      "source": [
        "text = \"\"\"\n",
        "안녕하세요. 언제나휴일입니다.\n",
        "오늘도 즐거운 하루입니다.\n",
        "언제나휴일에서는 다양한 프로그래밍 언어와 기술 자료를 공유합니다.\n",
        "유튜브를 통해 동영상 강의도 제공하고 있습니다.\n",
        "오늘의 재생목록 – 원격제어 프로그램 만들기 22개 동영상\n",
        "\"\"\"\n",
        "wc = WordCloud(width=400, height=400,font_path='/usr/share/fonts/truetype/nanum/NanumBarunGothic.ttf')\n",
        "wc.generate(text)\n",
        "wc.to_file('test2.jpg')\n",
        "img = cv2.imread('test2.jpg',cv2.IMREAD_COLOR)\n",
        "cv2_imshow(img)"
      ],
      "metadata": {
        "id": "C_vQd3RaANiF"
      },
      "execution_count": null,
      "outputs": []
    },
    {
      "cell_type": "markdown",
      "source": [
        "BeautifulSoup 개요"
      ],
      "metadata": {
        "id": "541VwNnawk2u"
      }
    },
    {
      "cell_type": "code",
      "source": [
        "from bs4 import BeautifulSoup"
      ],
      "metadata": {
        "id": "JdZUtX2iwn1f"
      },
      "execution_count": null,
      "outputs": []
    },
    {
      "cell_type": "code",
      "source": [
        "html_doc = \"\"\"\n",
        "<html>\n",
        "  <head>\n",
        "      <title>The Dormouse's story</title>\n",
        "  </head>\n",
        "  <body>\n",
        "    <p class=\"title\"><b>The Dormouse's story</b></p>\n",
        "\n",
        "    <p class=\"story\">Once upon a time there were three little sisters; and their names were\n",
        "    <a href=\"http://example.com/elsie\" class=\"sister\" id=\"link1\">Elsie</a>,\n",
        "    <a href=\"http://example.com/lacie\" class=\"sister\" id=\"link2\">Lacie</a> and\n",
        "    <a href=\"http://example.com/tillie\" class=\"sister\" id=\"link3\">Tillie</a>;\n",
        "    and they lived at the bottom of a well.</p>\n",
        "\n",
        "    <p class=\"story\">...</p>\n",
        "  </body>\n",
        "</html>\n",
        "\"\"\""
      ],
      "metadata": {
        "id": "xkZSxFVjw5rP"
      },
      "execution_count": null,
      "outputs": []
    },
    {
      "cell_type": "code",
      "source": [
        "bs = BeautifulSoup(html_doc,\"html.parser\")\n",
        "for p in bs.html.body.find_all('p'):\n",
        "  print(p)\n",
        "  print(p.attrs)"
      ],
      "metadata": {
        "colab": {
          "base_uri": "https://localhost:8080/"
        },
        "id": "w8SJdxVAyTIV",
        "outputId": "384bad92-d8e1-4f51-e4a1-6a00d293733e"
      },
      "execution_count": null,
      "outputs": [
        {
          "output_type": "stream",
          "name": "stdout",
          "text": [
            "<p class=\"title\"><b>The Dormouse's story</b></p>\n",
            "{'class': ['title']}\n",
            "<p class=\"story\">Once upon a time there were three little sisters; and their names were\n",
            "    <a class=\"sister\" href=\"http://example.com/elsie\" id=\"link1\">Elsie</a>,\n",
            "    <a class=\"sister\" href=\"http://example.com/lacie\" id=\"link2\">Lacie</a> and\n",
            "    <a class=\"sister\" href=\"http://example.com/tillie\" id=\"link3\">Tillie</a>;\n",
            "    and they lived at the bottom of a well.</p>\n",
            "{'class': ['story']}\n",
            "<p class=\"story\">...</p>\n",
            "{'class': ['story']}\n"
          ]
        }
      ]
    },
    {
      "cell_type": "markdown",
      "source": [
        "네이버 개발자 센터 - 뉴스 (XML 방식)"
      ],
      "metadata": {
        "id": "TQXR_3jaz8m8"
      }
    },
    {
      "cell_type": "code",
      "source": [
        "def search_news_naver2(text,start=1):\n",
        "  query = urllib.parse.quote(text)#utf-8 인코딩\n",
        "  query_str = f\"https://openapi.naver.com/v1/search/news.xml?query={query}&display=100&start={start}&sort=sim\"\n",
        "  request = urllib.request.Request(query_str) #웹 요청 개체 생성\n",
        "  request.add_header(\"X-Naver-Client-Id\",client_id)\n",
        "  request.add_header(\"X-Naver-Client-Secret\",client_secret)\n",
        "  response = urllib.request.urlopen(request) #웹 요청\n",
        "  if response.getcode()!=200:\n",
        "    return None\n",
        "  return response.read()"
      ],
      "metadata": {
        "id": "FBiD1Y8kz_ar"
      },
      "execution_count": null,
      "outputs": []
    },
    {
      "cell_type": "code",
      "source": [
        "def search_news_count2(text):\n",
        "  bdata = search_news_naver2(text)\n",
        "  if bdata == None:\n",
        "    return 0\n",
        "  dec_data = bdata.decode('utf-8') #utf-8로 디코딩\n",
        "  xml_data = BeautifulSoup(dec_data,'xml')\n",
        "  return int (xml_data.rss.channel.total.get_text())"
      ],
      "metadata": {
        "id": "SWuY59SD0YUj"
      },
      "execution_count": null,
      "outputs": []
    },
    {
      "cell_type": "code",
      "source": [
        "class News2:\n",
        "  def __init__(self,news):\n",
        "    self.title = remove_html(news.title.get_text())\n",
        "    self.description = remove_html(news.description.get_text())\n",
        "    self.link = news.link.get_text()\n",
        "  def __str__(self):\n",
        "    return \"=== 제목:\"+self.title+\"===\\n\"+self.description"
      ],
      "metadata": {
        "id": "F4pxhEFR1y0z"
      },
      "execution_count": null,
      "outputs": []
    },
    {
      "cell_type": "code",
      "source": [
        "def search_news2(text,last_start=1000): #last_start는 1000보다 작거나 같아야 함\n",
        "  tcnt = search_news_count2(text) #전체 뉴스 개수\n",
        "  rcnt = 0\n",
        "  start = 1\n",
        "  re=[]\n",
        "  while (rcnt<tcnt)and (start<=last_start):\n",
        "    bdata = search_news_naver2(text,start)\n",
        "    if bdata == None:\n",
        "      return  re\n",
        "    dec_data = bdata.decode('utf-8') #utf-8로 디코딩\n",
        "    xml_data = BeautifulSoup(dec_data,'xml')    \n",
        "    for news in xml_data.rss.channel.find_all('item'):\n",
        "      re.append(News2(news))\n",
        "    start+=1\n",
        "    rcnt +=100\n",
        "  return re"
      ],
      "metadata": {
        "id": "Rl_RUUIk1apj"
      },
      "execution_count": null,
      "outputs": []
    },
    {
      "cell_type": "code",
      "source": [
        "text = input(\"검색:\")\n",
        "words = []\n",
        "for news in search_news2(text,2):\n",
        "  words+=news.title.split(' ')\n",
        "  words+=news.description.split(' ')\n",
        "s = pd.Series(words) \n",
        "s = s[s!='']\n",
        "sc = s.value_counts()\n",
        "for i in range(50):\n",
        "  print(sc.index[i],\":\",sc.values[i])"
      ],
      "metadata": {
        "id": "E6sgXLxz0HK8"
      },
      "execution_count": null,
      "outputs": []
    },
    {
      "cell_type": "markdown",
      "source": [
        "공공데이터포털 = 여행금지"
      ],
      "metadata": {
        "id": "BueaJvtP6M6w"
      }
    },
    {
      "cell_type": "code",
      "source": [
        "import requests\n",
        "\n",
        "url = 'http://apis.data.go.kr/1262000/TravelBanService/getTravelBanList'\n",
        "params ={'serviceKey' : '9L1cBk73sSnwpyeSQXMgS0vbcuOX6dmZrLL1zb2c3+qn60YAlkazAJeeX+nBpfw2CusiTrfLMCziTs4SnzOC8Q==', 'numOfRows' : '10', 'pageNo' : '1', 'countryName' : '가나', 'countryEnName' : 'Ghana', 'isoCode1' : '', 'isoCode2' : '', 'isoCode3' : '', 'isoCode4' : '', 'isoCode5' : '', 'isoCode6' : '', 'isoCode7' : '', 'isoCode8' : '', 'isoCode9' : '', 'isoCode10' : '' }\n",
        "\n",
        "response = requests.get(url, params=params)\n",
        "xml_data = BeautifulSoup(response.content.decode('utf-8'))\n",
        "#print(xml_data.response.items)\n",
        "for item in xml_data.response.items.find_all('item'):\n",
        "  print(item.countryname.get_text())"
      ],
      "metadata": {
        "id": "GV3LzfDV6PT4"
      },
      "execution_count": null,
      "outputs": []
    },
    {
      "cell_type": "markdown",
      "source": [
        "예습"
      ],
      "metadata": {
        "id": "gAN6CT_vEV6U"
      }
    },
    {
      "cell_type": "code",
      "source": [
        "import numpy as np\n",
        "import matplotlib.pyplot as plt\n",
        "\n",
        "xs = [x/10 for x in range(-100,100)]\n",
        "ys = [(3+np.random.uniform(-1,1))*x-2 for x in xs]\n",
        "plt.plot(xs,ys,'r.')\n",
        "plt.plot([-10,10],[-10*3-2,10*3-2],label='y=3x-2')\n",
        "plt.plot([-10,10],[-10*4-2,10*4-2],label='y=4x-2')\n",
        "plt.plot([-10,10],[-10*2-2,10*2-2],label='y=2x-2')\n",
        "plt.xlim(-40,40)\n",
        "plt.ylim(-40,40)\n",
        "plt.legend()\n",
        "plt.show()"
      ],
      "metadata": {
        "id": "AYj2WqcAEXLE"
      },
      "execution_count": null,
      "outputs": []
    },
    {
      "cell_type": "code",
      "source": [
        "def error_square(y,yp): #실제값(y)와 예측값(yp)의 차이의 제곱을 구하는 함수\n",
        "  return (y-yp)**2"
      ],
      "metadata": {
        "id": "OvySC2SzGf1y"
      },
      "execution_count": null,
      "outputs": []
    },
    {
      "cell_type": "code",
      "source": [
        "yps1 = [3*x-2 for x in xs]\n",
        "yps2 = [4*x-2 for x in xs]\n",
        "yps3 = [2*x-2 for x in xs]\n",
        "plt.plot(xs,ys,'r.')\n",
        "plt.plot(xs,yps1,label='y=3x-2')\n",
        "plt.plot(xs,yps2,label='y=4x-2')\n",
        "plt.plot(xs,yps3,label='y=2x-2')\n",
        "plt.xlim(-40,40)\n",
        "plt.ylim(-40,40)\n",
        "plt.legend()\n",
        "plt.show()"
      ],
      "metadata": {
        "id": "WnzyUeQeHA2J"
      },
      "execution_count": null,
      "outputs": []
    },
    {
      "cell_type": "code",
      "source": [
        "nys = np.array(ys)\n",
        "nys1 = np.array(yps1)\n",
        "m1 = error_square(nys,nys1).mean()\n",
        "nys2 = np.array(yps2)\n",
        "m2 = error_square(nys,nys2).mean()\n",
        "nys3 = np.array(yps3)\n",
        "m3 = error_square(nys,nys3).mean()\n",
        "m1,m2,m3"
      ],
      "metadata": {
        "colab": {
          "base_uri": "https://localhost:8080/"
        },
        "id": "XOMzfgdRHmda",
        "outputId": "bc3ac5f8-7260-4eaa-e455-242480976682"
      },
      "execution_count": null,
      "outputs": [
        {
          "output_type": "execute_result",
          "data": {
            "text/plain": [
              "(11.231053592828514, 39.58013230213682, 49.551974883520195)"
            ]
          },
          "metadata": {},
          "execution_count": 394
        }
      ]
    }
  ]
}