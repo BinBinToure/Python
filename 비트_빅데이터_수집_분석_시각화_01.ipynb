{
  "nbformat": 4,
  "nbformat_minor": 0,
  "metadata": {
    "colab": {
      "provenance": [],
      "collapsed_sections": [],
      "authorship_tag": "ABX9TyM7NRkFEuWCh7LpO+Xi2AhT",
      "include_colab_link": true
    },
    "kernelspec": {
      "name": "python3",
      "display_name": "Python 3"
    },
    "language_info": {
      "name": "python"
    }
  },
  "cells": [
    {
      "cell_type": "markdown",
      "metadata": {
        "id": "view-in-github",
        "colab_type": "text"
      },
      "source": [
        "<a href=\"https://colab.research.google.com/github/BinBinToure/Python/blob/main/%EB%B9%84%ED%8A%B8_%EB%B9%85%EB%8D%B0%EC%9D%B4%ED%84%B0_%EC%88%98%EC%A7%91_%EB%B6%84%EC%84%9D_%EC%8B%9C%EA%B0%81%ED%99%94_01.ipynb\" target=\"_parent\"><img src=\"https://colab.research.google.com/assets/colab-badge.svg\" alt=\"Open In Colab\"/></a>"
      ]
    },
    {
      "cell_type": "markdown",
      "source": [
        "https://numpy.org/doc/stable/user/whatisnumpy.html"
      ],
      "metadata": {
        "id": "M5d5QDE1s2tx"
      }
    },
    {
      "cell_type": "code",
      "source": [
        "ls = [[1,2,3,4],[3,4,5],[2,3],[1],1,2,'Hello']\n",
        "print(ls)"
      ],
      "metadata": {
        "colab": {
          "base_uri": "https://localhost:8080/"
        },
        "id": "DSouSkaBtJ2V",
        "outputId": "ba6663f0-5e44-404f-d151-9863808cde79"
      },
      "execution_count": null,
      "outputs": [
        {
          "output_type": "stream",
          "name": "stdout",
          "text": [
            "[[1, 2, 3, 4], [3, 4, 5], [2, 3], [1], 1, 2, 'Hello']\n"
          ]
        }
      ]
    },
    {
      "cell_type": "code",
      "source": [
        "# numpy 모듈을 사용하기 위한 import문\n",
        "import numpy as np                          # as 뒤는 닉네임"
      ],
      "metadata": {
        "id": "toQ1iTk4tYTP"
      },
      "execution_count": null,
      "outputs": []
    },
    {
      "cell_type": "code",
      "source": [
        "ls = [1,2,3,4,5]\n",
        "arr = np.array(ls)\n",
        "print(arr)\n",
        "print(type(arr))   # 다차원 배열을 표현하는 타입이 ndarray"
      ],
      "metadata": {
        "colab": {
          "base_uri": "https://localhost:8080/"
        },
        "id": "AkenbxXMuAGP",
        "outputId": "64d42a46-e657-410e-8dbd-5b23df79c123"
      },
      "execution_count": null,
      "outputs": [
        {
          "output_type": "stream",
          "name": "stdout",
          "text": [
            "[1 2 3 4 5]\n",
            "<class 'numpy.ndarray'>\n"
          ]
        }
      ]
    },
    {
      "cell_type": "code",
      "source": [
        "ls1 = [1,2,3]\n",
        "ls2 = [4,7,2]\n",
        "ls3 = ls1 + ls2\n",
        "print(ls3)        # 파이썬 리스트의 합은 concat"
      ],
      "metadata": {
        "colab": {
          "base_uri": "https://localhost:8080/"
        },
        "id": "y6OcrICEuc8D",
        "outputId": "52c3ed3a-5c13-4411-ea89-e65cddb84938"
      },
      "execution_count": null,
      "outputs": [
        {
          "output_type": "stream",
          "name": "stdout",
          "text": [
            "[1, 2, 3, 4, 7, 2]\n"
          ]
        }
      ]
    },
    {
      "cell_type": "code",
      "source": [
        "arr1 = np.array(ls1)\n",
        "arr2 = np.array(ls2)\n",
        "arr3 = arr1 + arr2\n",
        "print(arr3)       # numpy의 +연산은 행렬의 +연산을 수행"
      ],
      "metadata": {
        "colab": {
          "base_uri": "https://localhost:8080/"
        },
        "id": "aA9ZCBP3vq83",
        "outputId": "af733854-a5a0-4488-d3f3-02e0a3eb6245"
      },
      "execution_count": null,
      "outputs": [
        {
          "output_type": "stream",
          "name": "stdout",
          "text": [
            "[5 9 5]\n"
          ]
        }
      ]
    },
    {
      "cell_type": "code",
      "source": [
        "ls = [1,2,3] \n",
        "ls2 = ls * 3\n",
        "print(ls2)        # 리스트 * 수는 원소를 반복해서 나열"
      ],
      "metadata": {
        "colab": {
          "base_uri": "https://localhost:8080/"
        },
        "id": "H2XjbcUOwBbP",
        "outputId": "1f9f4dab-d853-4280-8e2e-d11ab5919d53"
      },
      "execution_count": null,
      "outputs": [
        {
          "output_type": "stream",
          "name": "stdout",
          "text": [
            "[1, 2, 3, 1, 2, 3, 1, 2, 3]\n"
          ]
        }
      ]
    },
    {
      "cell_type": "code",
      "source": [
        "arr = np.array(ls)\n",
        "arr2 = arr * 3\n",
        "print(arr2)       # numpy의 ndarray * 정수는 행렬 * 정수 연산을 수행"
      ],
      "metadata": {
        "colab": {
          "base_uri": "https://localhost:8080/"
        },
        "id": "bMT0ASIlwaXV",
        "outputId": "447e2127-40b5-4396-ebf2-26c2683cc145"
      },
      "execution_count": null,
      "outputs": [
        {
          "output_type": "stream",
          "name": "stdout",
          "text": [
            "[3 6 9]\n"
          ]
        }
      ]
    },
    {
      "cell_type": "markdown",
      "source": [
        "%%time을 마킹하면 시간을 보여줍니다"
      ],
      "metadata": {
        "id": "m2IQC2nU4EG5"
      }
    },
    {
      "cell_type": "code",
      "source": [
        "%%time                        \n",
        "arr = np.arange(100000)         ## p134"
      ],
      "metadata": {
        "colab": {
          "base_uri": "https://localhost:8080/"
        },
        "id": "XMEUpXvO3Xl9",
        "outputId": "be7c873a-fa7b-4ab7-cb36-fa93ce2558e3"
      },
      "execution_count": null,
      "outputs": [
        {
          "output_type": "stream",
          "name": "stderr",
          "text": [
            "UsageError: Can't use statement directly after '%%time'!\n"
          ]
        }
      ]
    },
    {
      "cell_type": "code",
      "source": [
        "%%time\n",
        "ls = list(range(100000))"
      ],
      "metadata": {
        "colab": {
          "base_uri": "https://localhost:8080/"
        },
        "id": "gD8MIXcD3fV1",
        "outputId": "7a02b7c5-e6db-496e-ab62-c5dbaa96bda5"
      },
      "execution_count": null,
      "outputs": [
        {
          "output_type": "stream",
          "name": "stdout",
          "text": [
            "CPU times: user 3.42 ms, sys: 904 µs, total: 4.32 ms\n",
            "Wall time: 4.88 ms\n"
          ]
        }
      ]
    },
    {
      "cell_type": "code",
      "source": [
        "arr = np.random.randn(2,3)  # 2X3 행렬을 생성(원소는 랜덤하게 결정)\n",
        "print(arr)"
      ],
      "metadata": {
        "colab": {
          "base_uri": "https://localhost:8080/"
        },
        "id": "Mlr_JnsK4KRs",
        "outputId": "5fc258ec-1528-4c80-d775-cbeef20bf622"
      },
      "execution_count": null,
      "outputs": [
        {
          "output_type": "stream",
          "name": "stdout",
          "text": [
            "[[ 1.74266236  0.39558377  0.72324708]\n",
            " [-0.96200396 -0.5087491  -2.12983247]]\n"
          ]
        }
      ]
    },
    {
      "cell_type": "code",
      "source": [
        "arr2 = arr*3\n",
        "print(arr2)"
      ],
      "metadata": {
        "colab": {
          "base_uri": "https://localhost:8080/"
        },
        "id": "lGgW-br74qPk",
        "outputId": "b36dc2bd-385a-48c5-9766-2d54d07e0961"
      },
      "execution_count": null,
      "outputs": [
        {
          "output_type": "stream",
          "name": "stdout",
          "text": [
            "[[ 5.22798709  1.18675131  2.16974123]\n",
            " [-2.88601189 -1.5262473  -6.38949741]]\n"
          ]
        }
      ]
    },
    {
      "cell_type": "code",
      "source": [
        "print(arr)"
      ],
      "metadata": {
        "colab": {
          "base_uri": "https://localhost:8080/"
        },
        "id": "PvJBzYR44tnS",
        "outputId": "18d8ae40-8086-407a-f872-7f2f9c5fac91"
      },
      "execution_count": null,
      "outputs": [
        {
          "output_type": "stream",
          "name": "stdout",
          "text": [
            "[[ 1.74266236  0.39558377  0.72324708]\n",
            " [-0.96200396 -0.5087491  -2.12983247]]\n"
          ]
        }
      ]
    },
    {
      "cell_type": "code",
      "source": [
        "print(arr.shape)         # 구조 확인\n",
        "                         # 대괄호가 2개로 시작하면 2차원"
      ],
      "metadata": {
        "colab": {
          "base_uri": "https://localhost:8080/"
        },
        "id": "2odSz_Bz5LQ9",
        "outputId": "a4a52759-ade9-441d-eb2c-c4972b79f237"
      },
      "execution_count": null,
      "outputs": [
        {
          "output_type": "stream",
          "name": "stdout",
          "text": [
            "(2, 3)\n"
          ]
        }
      ]
    },
    {
      "cell_type": "code",
      "source": [
        "print(arr.ndim)          # 차원 확인"
      ],
      "metadata": {
        "colab": {
          "base_uri": "https://localhost:8080/"
        },
        "id": "lQlbBC805Txl",
        "outputId": "4406f78f-dd9b-4644-9a95-3bea3e6b52e9"
      },
      "execution_count": null,
      "outputs": [
        {
          "output_type": "stream",
          "name": "stdout",
          "text": [
            "2\n"
          ]
        }
      ]
    },
    {
      "cell_type": "code",
      "source": [
        "arr.dtype         # 원소 타입 확인"
      ],
      "metadata": {
        "colab": {
          "base_uri": "https://localhost:8080/"
        },
        "id": "gOQlrjR45Z3i",
        "outputId": "2811ee06-421a-483f-89f1-418ed0c2c503"
      },
      "execution_count": null,
      "outputs": [
        {
          "output_type": "execute_result",
          "data": {
            "text/plain": [
              "dtype('float64')"
            ]
          },
          "metadata": {},
          "execution_count": 18
        }
      ]
    },
    {
      "cell_type": "code",
      "source": [
        "arr = np.array([1,2,3])\n",
        "print(arr)\n",
        "print(arr.dtype)"
      ],
      "metadata": {
        "id": "AdMwTeRt5gs-"
      },
      "execution_count": null,
      "outputs": []
    },
    {
      "cell_type": "code",
      "source": [
        "arr = np.array([1,2,3,4.2])       # 정수와 실수로 배열 생성 -> 모든 정수는 실수로 변환된다.\n",
        "print(arr)\n",
        "print(arr.dtype)\n",
        "print(type(arr[0]))"
      ],
      "metadata": {
        "id": "SOnZLtQo50uO"
      },
      "execution_count": null,
      "outputs": []
    },
    {
      "cell_type": "code",
      "source": [
        "arr = np.array([1,2,3,4.2,'a'])   # 수와 문자열로 구성 -> 모두 문자열로 변환됨\n",
        "print(arr)\n",
        "print(arr.dtype)\n",
        "print(type(arr[0]))"
      ],
      "metadata": {
        "colab": {
          "base_uri": "https://localhost:8080/"
        },
        "id": "8n0-qZIN6XRJ",
        "outputId": "c427c740-5749-404d-de67-8c540f2b22dc"
      },
      "execution_count": null,
      "outputs": [
        {
          "output_type": "stream",
          "name": "stdout",
          "text": [
            "['1' '2' '3' '4.2' 'a']\n",
            "<U32\n",
            "<class 'numpy.str_'>\n"
          ]
        }
      ]
    },
    {
      "cell_type": "markdown",
      "source": [
        "다차원 배열 생성"
      ],
      "metadata": {
        "id": "VUNofpgH66FZ"
      }
    },
    {
      "cell_type": "code",
      "source": [
        "ls = [1,2,3]\n",
        "arr = np.array(ls) # 리스트를 입력 인자로 ndarray 개체 생성\n",
        "print(arr)\n",
        "print(type(arr))"
      ],
      "metadata": {
        "id": "hzv1hadC7E79"
      },
      "execution_count": null,
      "outputs": []
    },
    {
      "cell_type": "code",
      "source": [
        "ls = [[1,2,3],[2,5,6]]\n",
        "arr = np.array(ls) # 리스트를 입력 인자로 ndarray 개체 생성\n",
        "print(arr)\n",
        "print(type(arr))"
      ],
      "metadata": {
        "id": "mGLv2y8D7Kk8"
      },
      "execution_count": null,
      "outputs": []
    },
    {
      "cell_type": "code",
      "source": [
        "print(\"구조 : \",arr.shape)\n",
        "print(\"차원 : \",arr.ndim)\n",
        "print(\"원소 형식 : \",arr.dtype)"
      ],
      "metadata": {
        "id": "dkZvZ4bC7Xv_"
      },
      "execution_count": null,
      "outputs": []
    },
    {
      "cell_type": "code",
      "source": [
        "arr = np.zeros(10)\n",
        "print(arr)\n",
        "print(\"구조 : \",arr.shape)\n",
        "print(\"차원 : \",arr.ndim)\n",
        "print(\"원소 형식 : \",arr.dtype)"
      ],
      "metadata": {
        "id": "4q9vP6aB7jA0"
      },
      "execution_count": null,
      "outputs": []
    },
    {
      "cell_type": "code",
      "source": [
        "arr = np.zeros((3,6))\n",
        "print(arr)\n",
        "print(\"구조 : \",arr.shape)\n",
        "print(\"차원 : \",arr.ndim)\n",
        "print(\"원소 형식 : \",arr.dtype)"
      ],
      "metadata": {
        "id": "p16qMFdU7q-4"
      },
      "execution_count": null,
      "outputs": []
    },
    {
      "cell_type": "code",
      "source": [
        "arr = np.ones((3,6))\n",
        "print(arr)\n",
        "print(\"구조 : \",arr.shape)\n",
        "print(\"차원 : \",arr.ndim)\n",
        "print(\"원소 형식 : \",arr.dtype)     # defalut는 float이다"
      ],
      "metadata": {
        "id": "DXROJWnO73Z6"
      },
      "execution_count": null,
      "outputs": []
    },
    {
      "cell_type": "code",
      "source": [
        "arr = np.arange(20)\n",
        "print(arr)\n",
        "print(\"구조 : \",arr.shape)\n",
        "print(\"차원 : \",arr.ndim)\n",
        "print(\"원소 형식 : \",arr.dtype)"
      ],
      "metadata": {
        "id": "EgsK_m9T8h_p"
      },
      "execution_count": null,
      "outputs": []
    },
    {
      "cell_type": "code",
      "source": [
        "arr = np.arange(3,20,4)\n",
        "print(arr)\n",
        "print(\"구조 : \",arr.shape)\n",
        "print(\"차원 : \",arr.ndim)\n",
        "print(\"원소 형식 : \",arr.dtype)"
      ],
      "metadata": {
        "id": "34HNiF5_8q6R"
      },
      "execution_count": null,
      "outputs": []
    },
    {
      "cell_type": "markdown",
      "source": [
        "원소 타입"
      ],
      "metadata": {
        "id": "AdiQ-NDhBoJ3"
      }
    },
    {
      "cell_type": "code",
      "source": [
        "arr = np.array([1,2,3])\n",
        "print(type(arr[0]), type(arr[1]), type(arr[2]))\n",
        "print(arr.dtype)"
      ],
      "metadata": {
        "id": "ZfGLgzgqBrHP"
      },
      "execution_count": null,
      "outputs": []
    },
    {
      "cell_type": "code",
      "source": [
        "arr = np.array([1,2,4.2])\n",
        "print(type(arr[0]), type(arr[1]), type(arr[2]))\n",
        "print(arr.dtype)"
      ],
      "metadata": {
        "id": "DL2dt8tRB5CT"
      },
      "execution_count": null,
      "outputs": []
    },
    {
      "cell_type": "code",
      "source": [
        "arr = np.array([1,2,4.2], dtype = np.int32)         ## dtype 인자를 이용하여 명시적으로 원소 형식 결정\n",
        "print(type(arr[0]), type(arr[1]), type(arr[2]))\n",
        "print(arr.dtype)\n",
        "print(arr)"
      ],
      "metadata": {
        "id": "5ckxD-xCB_mY"
      },
      "execution_count": null,
      "outputs": []
    },
    {
      "cell_type": "markdown",
      "source": [
        "산술 연산"
      ],
      "metadata": {
        "id": "jlUCGIQhCrCi"
      }
    },
    {
      "cell_type": "code",
      "source": [
        "arr = np.array([[1,2,3],[4,5,6]])\n",
        "print(arr)\n",
        "print(\"====\")\n",
        "arr2 = arr * arr\n",
        "print(arr2)"
      ],
      "metadata": {
        "id": "2aGS6HUCCsTv"
      },
      "execution_count": null,
      "outputs": []
    },
    {
      "cell_type": "code",
      "source": [
        "arr2 = arr - arr            # p143\n",
        "print(arr2)"
      ],
      "metadata": {
        "id": "rWzzEGrrDH05"
      },
      "execution_count": null,
      "outputs": []
    },
    {
      "cell_type": "code",
      "source": [
        "arr2 = 1 / arr\n",
        "print(arr2)"
      ],
      "metadata": {
        "id": "GyfnK_PLDLun"
      },
      "execution_count": null,
      "outputs": []
    },
    {
      "cell_type": "code",
      "source": [
        "arr2 = arr ** 0.5\n",
        "print(arr2)"
      ],
      "metadata": {
        "id": "duKP6SxiDUan"
      },
      "execution_count": null,
      "outputs": []
    },
    {
      "cell_type": "code",
      "source": [
        "arr1 = np.array([1,2,3])\n",
        "arr2 = np.array([4,0,2])\n",
        "filter = arr1 > arr2\n",
        "print(filter)"
      ],
      "metadata": {
        "id": "kFzByWeMDpCJ"
      },
      "execution_count": null,
      "outputs": []
    },
    {
      "cell_type": "markdown",
      "source": [
        "색인 및 슬라이싱"
      ],
      "metadata": {
        "id": "tCXI5fQJEF0R"
      }
    },
    {
      "cell_type": "code",
      "source": [
        "arr = np.arange(1000)\n",
        "print(arr[5:8])"
      ],
      "metadata": {
        "id": "VBSd2PvIEHZB"
      },
      "execution_count": null,
      "outputs": []
    },
    {
      "cell_type": "code",
      "source": [
        "print(arr[:8])"
      ],
      "metadata": {
        "id": "pZMzfzdSETgg"
      },
      "execution_count": null,
      "outputs": []
    },
    {
      "cell_type": "code",
      "source": [
        "print(arr[995:])"
      ],
      "metadata": {
        "id": "l2UqmSc9Eexe"
      },
      "execution_count": null,
      "outputs": []
    },
    {
      "cell_type": "code",
      "source": [
        "print(arr[-5:])"
      ],
      "metadata": {
        "id": "0_kUEXNlEl8-"
      },
      "execution_count": null,
      "outputs": []
    },
    {
      "cell_type": "code",
      "source": [
        "arr = np.zeros(30)\n",
        "print(arr)"
      ],
      "metadata": {
        "id": "fTzj4Ej4EylK"
      },
      "execution_count": null,
      "outputs": []
    },
    {
      "cell_type": "code",
      "source": [
        "arr[5:8] = 7\n",
        "print(arr)"
      ],
      "metadata": {
        "id": "3wUmnt9ME4N2"
      },
      "execution_count": null,
      "outputs": []
    },
    {
      "cell_type": "code",
      "source": [
        "arr = np.array([[1,2,3],[4,5,6],[7,8,9]])\n",
        "print(arr)"
      ],
      "metadata": {
        "id": "jBZFCF-PFFtW"
      },
      "execution_count": null,
      "outputs": []
    },
    {
      "cell_type": "code",
      "source": [
        "print(arr[0])\n",
        "print(arr[1])\n",
        "print(arr[2])"
      ],
      "metadata": {
        "id": "ot37Ppa_FOiY"
      },
      "execution_count": null,
      "outputs": []
    },
    {
      "cell_type": "code",
      "source": [
        "print(arr[0][2])"
      ],
      "metadata": {
        "id": "wwtOQTXoFV_p"
      },
      "execution_count": null,
      "outputs": []
    },
    {
      "cell_type": "code",
      "source": [
        "print(arr[0,2])"
      ],
      "metadata": {
        "id": "QNOD0YJdFaUw"
      },
      "execution_count": null,
      "outputs": []
    },
    {
      "cell_type": "code",
      "source": [
        "# 소스 배열을 가지고 간단한 실험을 하기 위해서 복사하여 사용하기\n",
        "cp_arr = arr.copy()\n",
        "print(cp_arr)\n",
        "print(\"====\")\n",
        "cp_arr[0][1]=8      # 원본 내용이 바뀌지 않음\n",
        "print(cp_arr)\n",
        "print(\"====\")\n",
        "print(arr)"
      ],
      "metadata": {
        "id": "GrYwOsfyFo-m"
      },
      "execution_count": null,
      "outputs": []
    },
    {
      "cell_type": "code",
      "source": [
        "cp_arr = arr            # arr과 cp_arr은 같은 개체를 참조\n",
        "print(cp_arr)\n",
        "print(\"====\")\n",
        "cp_arr[0][1]=8\n",
        "print(cp_arr)           # 원본이 바뀜\n",
        "print(\"====\")\n",
        "print(arr)"
      ],
      "metadata": {
        "id": "g4R7iHFMF7AO"
      },
      "execution_count": null,
      "outputs": []
    },
    {
      "cell_type": "code",
      "source": [
        "arr = np.array([1,2,3])\n",
        "\n",
        "filter = arr>=2\n",
        "print(filter)"
      ],
      "metadata": {
        "id": "EuFZmX8BHDe_"
      },
      "execution_count": null,
      "outputs": []
    },
    {
      "cell_type": "code",
      "source": [
        "res = arr[filter]\n",
        "print(res)"
      ],
      "metadata": {
        "id": "KXu1i5A5HVep"
      },
      "execution_count": null,
      "outputs": []
    },
    {
      "cell_type": "markdown",
      "source": [
        "**구조 변경**"
      ],
      "metadata": {
        "id": "uFseGhQIIi7m"
      }
    },
    {
      "cell_type": "code",
      "source": [
        "arr = np.arange(96)               # p155\n",
        "print(\"구조 : \", arr.shape)\n",
        "print(\"차원 : \", arr.ndim)"
      ],
      "metadata": {
        "id": "p0ada5W4Ij5B"
      },
      "execution_count": null,
      "outputs": []
    },
    {
      "cell_type": "code",
      "source": [
        "arr2 = arr.reshape((6,16))              \n",
        "print(\"구조 : \", arr2.shape)\n",
        "print(\"차원 : \", arr2.ndim)"
      ],
      "metadata": {
        "id": "7K0eFsfsIun9"
      },
      "execution_count": null,
      "outputs": []
    },
    {
      "cell_type": "code",
      "source": [
        "# arr2 = arr.reshape((7,13))              \n",
        "# print(\"구조 : \", arr2.shape)        # 구조 변경할때 요소의 개수가 같을 때만 구조 변경할 수 있음 (96이므로 6*16은 가능, 7*13은 불가능)\n",
        "# print(\"차원 : \", arr2.ndim)"
      ],
      "metadata": {
        "id": "xKR_7sdPI9Zr"
      },
      "execution_count": null,
      "outputs": []
    },
    {
      "cell_type": "code",
      "source": [
        "arr2 = arr.reshape((6,-1))            # 구조 변경 요청할 때 하나의 차원은 -1로 표현 가능(알아서 계산)\n",
        "print(\"구조 : \", arr2.shape)\n",
        "print(\"차원 : \", arr2.ndim)"
      ],
      "metadata": {
        "id": "es4wpT_mJOfB"
      },
      "execution_count": null,
      "outputs": []
    },
    {
      "cell_type": "code",
      "source": [
        "arr = np.array([[1,2,3],[4,5,6]])\n",
        "arr2 = arr.T\n",
        "print(arr)\n",
        "print(\"====\")\n",
        "print(arr2)"
      ],
      "metadata": {
        "id": "44HgEjRIJgaO"
      },
      "execution_count": null,
      "outputs": []
    },
    {
      "cell_type": "code",
      "source": [
        "arr2 = arr.transpose()        # arr.T와 arr.transpose()는 같은 결과(전치행렬)를 반환한다.\n",
        "print(arr)\n",
        "print(\"====\")\n",
        "print(arr2)"
      ],
      "metadata": {
        "id": "XfH5sVNhJ1od"
      },
      "execution_count": null,
      "outputs": []
    },
    {
      "cell_type": "code",
      "source": [
        "arr = np.arange(10)\n",
        "print(arr)"
      ],
      "metadata": {
        "id": "I2rbWp-ZKIIA"
      },
      "execution_count": null,
      "outputs": []
    },
    {
      "cell_type": "code",
      "source": [
        "arr2 = np.sqrt(arr)\n",
        "print(arr2)"
      ],
      "metadata": {
        "id": "Lv-nX8CqKebd"
      },
      "execution_count": null,
      "outputs": []
    },
    {
      "cell_type": "code",
      "source": [
        "arr1 = np.random.randn(2,3)\n",
        "print(arr1)\n",
        "print(\"===\")\n",
        "arr2 = np.random.randn(2,3)\n",
        "print(arr2)"
      ],
      "metadata": {
        "id": "KQcPie57Lx88"
      },
      "execution_count": null,
      "outputs": []
    },
    {
      "cell_type": "code",
      "source": [
        "arr3 = np.maximum(arr1, arr2)\n",
        "print(arr3)"
      ],
      "metadata": {
        "id": "dApOQ_SwL_k1"
      },
      "execution_count": null,
      "outputs": []
    },
    {
      "cell_type": "markdown",
      "source": [
        "**Numpy 안으로**"
      ],
      "metadata": {
        "id": "WpTDa5cJgfJQ"
      }
    },
    {
      "cell_type": "code",
      "source": [
        "# 잠시 파이썬 기본 문법 - 리스트 컴프리헨션\n",
        "xs = [x*x+2*x+3 for x in range(1,10)] #리스트 컴프리헨션\n",
        "print(xs) "
      ],
      "metadata": {
        "id": "pkoy_ikqgqWX"
      },
      "execution_count": null,
      "outputs": []
    },
    {
      "cell_type": "code",
      "source": [
        "xs = []\n",
        "for x in range(1,10) : \n",
        "  xs.append(x*x+2*x+3)\n",
        "print(xs)"
      ],
      "metadata": {
        "id": "-6zXVlYvhGvz"
      },
      "execution_count": null,
      "outputs": []
    },
    {
      "cell_type": "code",
      "source": [
        "xarr = np.array([1.1,1.2,1.3,1.4,1.5])\n",
        "yarr = np.array([2.1,2.2,2.3,2.4,2.5])\n",
        "cond = np.array([True,False,True,True,False])"
      ],
      "metadata": {
        "id": "JbVt0qCfhhRl"
      },
      "execution_count": null,
      "outputs": []
    },
    {
      "cell_type": "code",
      "source": [
        "# 파이썬 기초 문법 - zip 사용 예\n",
        "ls1 = [1,2,3]\n",
        "ls2 = ['가','나','다']\n",
        "for e1,e2 in zip(ls1, ls2) :\n",
        "  print(e1, e2)"
      ],
      "metadata": {
        "id": "aNyVMk0ihv9o"
      },
      "execution_count": null,
      "outputs": []
    },
    {
      "cell_type": "code",
      "source": [
        "# 리스트 컴프리헨션\n",
        "result = [(x if c else y) for x,y,c in zip(xarr, yarr, cond)]\n",
        "print(result)"
      ],
      "metadata": {
        "id": "XqqnKCediZ_P"
      },
      "execution_count": null,
      "outputs": []
    },
    {
      "cell_type": "code",
      "source": [
        "result = np.where(cond, xarr, yarr)\n",
        "print(result)"
      ],
      "metadata": {
        "id": "UC2yDS-jjGMM"
      },
      "execution_count": null,
      "outputs": []
    },
    {
      "cell_type": "code",
      "source": [
        "result = []\n",
        "for x,y,c in zip(xarr, yarr, cond) :\n",
        "  if c : \n",
        "    result.append(x)\n",
        "  else :\n",
        "    result.append(y)\n",
        "print(result)"
      ],
      "metadata": {
        "id": "hXFJB3S_ijTX"
      },
      "execution_count": null,
      "outputs": []
    },
    {
      "cell_type": "code",
      "source": [
        "result = np.where(cond,1,2)\n",
        "print(result)"
      ],
      "metadata": {
        "id": "gYSiNCcFj5dp"
      },
      "execution_count": null,
      "outputs": []
    },
    {
      "cell_type": "code",
      "source": [
        "heights = np.random.normal(172.4,5,100)        # 평균이 172.4 표준편차 5인 표본 1000개를 생성\n",
        "print(heights)"
      ],
      "metadata": {
        "id": "k1f-C_Caj-Nx"
      },
      "execution_count": null,
      "outputs": []
    },
    {
      "cell_type": "code",
      "source": [
        "print(\"평균 : \",heights.mean())   # print(\"평균 : \", np.mean(heights))\n",
        "print(\"합계 : \",heights.sum())    # print(\"합계 : \", np.sum(heights))"
      ],
      "metadata": {
        "id": "CTcP76R-kiEl"
      },
      "execution_count": null,
      "outputs": []
    },
    {
      "cell_type": "code",
      "source": [
        "h2 = heights.reshape(20, -1)\n",
        "print(\"구조 : \",h2.shape)\n",
        "print(h2)"
      ],
      "metadata": {
        "id": "_ObawRVrlM_u"
      },
      "execution_count": null,
      "outputs": []
    },
    {
      "cell_type": "code",
      "source": [
        "print(\"평균(축0) : \", h2.mean(axis=0))      # 컬럼 별 평균\n",
        "print(\"평균(축1) : \", h2.mean(axis=1))      # 로우 별 평균"
      ],
      "metadata": {
        "id": "iCOehk6ilp5W"
      },
      "execution_count": null,
      "outputs": []
    },
    {
      "cell_type": "code",
      "source": [
        "print(\"합계(축0) : \",h2.sum(axis=0))         # 컬럼 별 합계\n",
        "print(\"합계(축1) : \",h2.sum(axis=1))         # 로우 별 합계"
      ],
      "metadata": {
        "id": "-_4OjHVpl7BB"
      },
      "execution_count": null,
      "outputs": []
    },
    {
      "cell_type": "code",
      "source": [
        "print(\"분산 : \",h2.var())         \n",
        "print(\"표준편차 : \",h2.std())         "
      ],
      "metadata": {
        "id": "TDskoslKmt6C"
      },
      "execution_count": null,
      "outputs": []
    },
    {
      "cell_type": "code",
      "source": [
        "print(\"최솟값 : \",h2.min())\n",
        "print(\"최댓값 : \",h2.max())"
      ],
      "metadata": {
        "id": "GVVFGZoKnBHu"
      },
      "execution_count": null,
      "outputs": []
    },
    {
      "cell_type": "code",
      "source": [
        "print(\"최솟값이 있는 위치 : \", heights.argmin())\n",
        "print(\"최댓값이 있는 위치 : \", heights.argmax())\n",
        "print(heights[heights.argmin()], heights[heights.argmax()])"
      ],
      "metadata": {
        "id": "u3iiRdjSnQRw"
      },
      "execution_count": null,
      "outputs": []
    },
    {
      "cell_type": "code",
      "source": [
        "arr = np.array([1,2,4,2,7])\n",
        "print(\"누적 합계 : \", arr.cumsum())\n",
        "print(\"누적 곱 : \", arr.cumprod())"
      ],
      "metadata": {
        "id": "0wahnNSjn-qH"
      },
      "execution_count": null,
      "outputs": []
    },
    {
      "cell_type": "code",
      "source": [
        "arr.sort()\n",
        "print(arr)"
      ],
      "metadata": {
        "id": "FV2XjiZOoO3M"
      },
      "execution_count": null,
      "outputs": []
    },
    {
      "cell_type": "code",
      "source": [
        "ua = np.unique(arr)\n",
        "print(ua)"
      ],
      "metadata": {
        "id": "pnkWJTeRpUlT"
      },
      "execution_count": null,
      "outputs": []
    },
    {
      "cell_type": "code",
      "source": [
        "x = np.array([[1,2,3],[4,5,6]])\n",
        "y = np.array([[2,3],[1,2],[4,5]])\n",
        "re = x.dot(y)\n",
        "print(x)\n",
        "print(\"===\")\n",
        "print(y)\n",
        "print(\"===\")\n",
        "print(re)"
      ],
      "metadata": {
        "id": "WJMFxicMpXoO"
      },
      "execution_count": null,
      "outputs": []
    },
    {
      "cell_type": "markdown",
      "source": [
        "**난수**"
      ],
      "metadata": {
        "id": "JDisE0_sxDte"
      }
    },
    {
      "cell_type": "code",
      "source": [
        "for _ in range(10) :\n",
        "  print(np.random.uniform(-2,3))      # -2와 3사이의 랜덤한 실수 반환"
      ],
      "metadata": {
        "id": "Hrvu4attxIcU"
      },
      "execution_count": null,
      "outputs": []
    },
    {
      "cell_type": "code",
      "source": [
        "for _ in range(20) :\n",
        "  print(np.random.randint(1,5), end = ' ')  # 1에서 5사이의 랜덤한 정수 반환\n",
        "print()"
      ],
      "metadata": {
        "id": "qAuBDp03xmlg"
      },
      "execution_count": null,
      "outputs": []
    },
    {
      "cell_type": "code",
      "source": [
        "volan = [1,7,2,8,9]\n",
        "for _ in range(20) : \n",
        "  print(np.random.choice(volan), end = ' ')\n",
        "print()"
      ],
      "metadata": {
        "id": "ttHSoWeZytWV"
      },
      "execution_count": null,
      "outputs": []
    },
    {
      "cell_type": "code",
      "source": [],
      "metadata": {
        "id": "oHCXGEhBzGuX"
      },
      "execution_count": null,
      "outputs": []
    }
  ]
}