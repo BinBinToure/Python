{
  "nbformat": 4,
  "nbformat_minor": 0,
  "metadata": {
    "colab": {
      "provenance": [],
      "collapsed_sections": [],
      "authorship_tag": "ABX9TyO4SjvuAukGgKDu0ZP4qjPp",
      "include_colab_link": true
    },
    "kernelspec": {
      "name": "python3",
      "display_name": "Python 3"
    },
    "language_info": {
      "name": "python"
    }
  },
  "cells": [
    {
      "cell_type": "markdown",
      "metadata": {
        "id": "view-in-github",
        "colab_type": "text"
      },
      "source": [
        "<a href=\"https://colab.research.google.com/github/BinBinToure/Python/blob/main/%EB%B9%84%ED%8A%B8_%EB%B9%85%EB%8D%B0%EC%9D%B4%ED%84%B0_%EC%88%98%EC%A7%91_%EB%B6%84%EC%84%9D_%EC%8B%9C%EA%B0%81%ED%99%94_01_b_%EA%B8%B0%EC%B4%88_%ED%86%B5%EA%B3%84.ipynb\" target=\"_parent\"><img src=\"https://colab.research.google.com/assets/colab-badge.svg\" alt=\"Open In Colab\"/></a>"
      ]
    },
    {
      "cell_type": "markdown",
      "source": [
        "평균, 중간값, 사분위값, 최빈값, 분산, 표준편차, 공분산, 상관계수"
      ],
      "metadata": {
        "id": "B6E8yClt6usr"
      }
    },
    {
      "cell_type": "code",
      "source": [
        "import numpy as np"
      ],
      "metadata": {
        "id": "6K3vOM7o606G"
      },
      "execution_count": null,
      "outputs": []
    },
    {
      "cell_type": "code",
      "source": [
        "heights = np.random.normal(161.4, 4, 200) # 평균 161.4, 표준편차 4, 표본 200개 생성\n",
        "print(heights)\n",
        "bmis = np.random.normal(21, 2, 200)       # 평균 21, 표준편차 2, 표본 200개 생성\n",
        "weights = bmis * (heights**2) / 10000     # 키와 bmi 지수를 이용하여 몸무게 200개 생성"
      ],
      "metadata": {
        "colab": {
          "base_uri": "https://localhost:8080/"
        },
        "id": "1q_1gkBu7LSN",
        "outputId": "6045677c-258e-4bf8-b103-46c352d0ef38"
      },
      "execution_count": null,
      "outputs": [
        {
          "output_type": "stream",
          "name": "stdout",
          "text": [
            "[162.94046949 160.57489754 159.3063629  160.34370333 164.27527053\n",
            " 157.21171964 165.47129388 160.92896021 166.5259492  155.85403803\n",
            " 159.39399908 159.764918   158.69188239 165.93615453 161.36689146\n",
            " 159.45566947 157.40005339 164.21167108 157.39562438 164.9229911\n",
            " 158.28207022 155.78373703 165.32477196 166.64659717 166.44881284\n",
            " 161.86538971 165.64260535 163.97326295 161.40794952 158.43923048\n",
            " 166.10296212 161.38609443 164.96074537 161.30265882 162.89215283\n",
            " 152.88884903 164.79378576 157.19535371 161.931283   162.7631416\n",
            " 163.28887135 161.87741558 158.88698289 160.59556201 163.28598098\n",
            " 162.76494374 160.38556077 164.26633059 160.91630628 159.2142524\n",
            " 163.06228068 165.77929069 155.55007676 162.23953873 161.17217641\n",
            " 154.17493934 163.76118906 158.55039144 161.01991561 158.14137946\n",
            " 162.40013621 158.51156233 164.83236023 166.36989705 160.8556547\n",
            " 164.48090361 156.90300893 163.37672371 161.69559781 157.37350735\n",
            " 157.41810087 158.66309111 154.19881315 164.19056494 161.25539286\n",
            " 165.04988868 162.10527341 159.02701851 160.89108502 156.03902722\n",
            " 166.61604652 163.29069701 166.19702835 164.08921489 163.50400374\n",
            " 166.92535983 158.9272656  162.15764532 165.04620546 156.10157326\n",
            " 167.18766055 162.67603162 161.28727493 162.91128866 170.59289334\n",
            " 160.08768172 154.67164302 167.76619156 164.75741391 165.77769075\n",
            " 154.93987395 161.55380264 160.46883946 160.94601142 159.34261392\n",
            " 159.47670642 152.40739097 162.58778038 164.08617616 165.12498069\n",
            " 156.9847255  160.81777758 155.76354602 170.05193672 158.07264784\n",
            " 166.67397177 164.5537164  167.08928477 154.08426114 162.96278211\n",
            " 164.89065225 157.99061928 164.8049102  161.28408063 165.58119124\n",
            " 161.15531034 161.03314785 158.89854281 161.717257   167.24987152\n",
            " 161.36227465 158.62983197 162.05100025 158.20931556 165.75311487\n",
            " 160.06530813 161.4409843  163.3005802  160.61812486 167.07965554\n",
            " 154.46500615 161.18286617 158.95714266 159.03302307 158.00799886\n",
            " 156.55364969 155.68865446 162.93464542 150.94485079 158.29100727\n",
            " 172.18068415 160.28568688 160.46919917 167.58408667 165.47885738\n",
            " 157.14948364 162.7444646  157.90313587 165.38293163 163.57724542\n",
            " 162.02332132 164.12472137 154.31522883 158.83260356 160.17627775\n",
            " 168.14638828 163.51490847 164.93446318 153.48839023 166.16873834\n",
            " 161.61960659 165.51249358 166.62597026 170.24874285 161.33290366\n",
            " 163.94826853 154.03284463 159.64958648 165.89781847 164.07280372\n",
            " 158.90954308 163.28850507 160.5315044  155.50750287 151.06030705\n",
            " 159.30730292 165.33358485 163.29343162 160.23932912 165.18478939\n",
            " 162.4719714  160.31061359 152.23023964 161.84373826 164.4489096\n",
            " 168.14985178 164.24905663 155.18853757 161.34786059 162.21295284]\n"
          ]
        }
      ]
    },
    {
      "cell_type": "code",
      "source": [
        "print(\"===키===\")\n",
        "print(\"평균      : \", heights.mean())\n",
        "print(\"중간값    : \", np.median(heights))\n",
        "print(\"1/4분위값 : \", np.quantile(heights,0.25))\n",
        "print(\"2/4분위값 : \", np.quantile(heights,0.5))\n",
        "print(\"3/4분위값 : \", np.quantile(heights,0.75))\n",
        "hist, bins = np.histogram(heights,bins = [x/2 for x in range(145*2, 180*2,5)])  # 10개 구간으로 나눔\n",
        "print(hist)\n",
        "print(bins)\n",
        "astart = hist.argmax()\n",
        "aend = astart + 1\n",
        "print(f\"최빈 구간 : {bins[astart]}~{bins[aend]} , 개수 : {hist.max()}\")\n",
        "print(\"분산     : \", np.var(heights))\n",
        "print(\"표준편차 : \", np.std(heights))"
      ],
      "metadata": {
        "colab": {
          "base_uri": "https://localhost:8080/"
        },
        "id": "lchEXAS68NST",
        "outputId": "6bcd5261-fce2-4e8f-b485-6544184273ab"
      },
      "execution_count": null,
      "outputs": [
        {
          "output_type": "stream",
          "name": "stdout",
          "text": [
            "===키===\n",
            "평균      :  161.5042030385324\n",
            "중간값    :  161.49739346971023\n",
            "1/4분위값 :  158.90679301537944\n",
            "2/4분위값 :  161.49739346971023\n",
            "3/4분위값 :  164.45690810305297\n",
            "[ 0  0  4 10 19 31 52 44 32  4  4  0  0]\n",
            "[145.  147.5 150.  152.5 155.  157.5 160.  162.5 165.  167.5 170.  172.5\n",
            " 175.  177.5]\n",
            "최빈 구간 : 160.0~162.5 , 개수 : 52\n",
            "분산     :  15.627942516213992\n",
            "표준편차 :  3.9532192598202784\n"
          ]
        }
      ]
    },
    {
      "cell_type": "code",
      "source": [
        "print(\"{0} {1} {2}\".format(12,34,55))\n",
        "a=12\n",
        "b=34\n",
        "c=55\n",
        "print(f\"{a} {b} {c}\")"
      ],
      "metadata": {
        "colab": {
          "base_uri": "https://localhost:8080/"
        },
        "id": "eBXxNEGt8d-0",
        "outputId": "9c71d9de-b8ee-48a1-ee65-97bd68246ff6"
      },
      "execution_count": null,
      "outputs": [
        {
          "output_type": "stream",
          "name": "stdout",
          "text": [
            "12 34 55\n",
            "12 34 55\n"
          ]
        }
      ]
    },
    {
      "cell_type": "markdown",
      "source": [
        "![image.png](data:image/png;base64,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)"
      ],
      "metadata": {
        "id": "7_2gumk8BnIK"
      }
    },
    {
      "cell_type": "code",
      "source": [
        "cv = np.cov(heights,weights)\n",
        "print(\"공분산(키      ,키     ) : \", cv[0,0])\n",
        "print(\"공분산(키      ,몸무게 ) : \", cv[0,1])\n",
        "print(\"공분산(몸무게  ,키     ) : \", cv[1,0])\n",
        "print(\"공분산(몸무게  ,몸무게 ) : \", cv[1,1])"
      ],
      "metadata": {
        "colab": {
          "base_uri": "https://localhost:8080/"
        },
        "id": "YJYYG7ObBokM",
        "outputId": "22b01adf-1214-4e18-c72b-37c47fb03526"
      },
      "execution_count": null,
      "outputs": [
        {
          "output_type": "stream",
          "name": "stdout",
          "text": [
            "공분산(키      ,키     ) :  15.706474890667323\n",
            "공분산(키      ,몸무게 ) :  7.019074887655868\n",
            "공분산(몸무게  ,키     ) :  7.019074887655868\n",
            "공분산(몸무게  ,몸무게 ) :  27.35889186575594\n"
          ]
        }
      ]
    },
    {
      "cell_type": "code",
      "source": [
        "std_h = heights.std()\n",
        "std_w = weights.std()\n",
        "print(\"상관계수(키, 몸무게) : \", np.cov(heights,weights)[0,1]/(std_h*std_w))"
      ],
      "metadata": {
        "colab": {
          "base_uri": "https://localhost:8080/"
        },
        "id": "myzCQUiDDGmC",
        "outputId": "39160cc5-e2de-434a-a354-3761f1f907da"
      },
      "execution_count": null,
      "outputs": [
        {
          "output_type": "stream",
          "name": "stdout",
          "text": [
            "상관계수(키, 몸무게) :  0.34030488365133327\n"
          ]
        }
      ]
    },
    {
      "cell_type": "code",
      "source": [
        "def correl(x,y) :\n",
        "  std_x = x.std()\n",
        "  std_y = y.std()\n",
        "  if std_x>0 and std_y>0 :\n",
        "    return np.cov(x,y)[0,1]/(std_x*std_y)"
      ],
      "metadata": {
        "id": "rlhPyhaqDSht"
      },
      "execution_count": null,
      "outputs": []
    },
    {
      "cell_type": "code",
      "source": [
        "print(\"상관계수(키, 몸무게) : \", correl(heights,weights))"
      ],
      "metadata": {
        "colab": {
          "base_uri": "https://localhost:8080/"
        },
        "id": "Y2GjreQKDhcK",
        "outputId": "2e6b1a16-97b2-45ae-9ad9-ac549b374dec"
      },
      "execution_count": null,
      "outputs": [
        {
          "output_type": "stream",
          "name": "stdout",
          "text": [
            "상관계수(키, 몸무게) :  0.34030488365133327\n"
          ]
        }
      ]
    },
    {
      "cell_type": "markdown",
      "source": [
        "확률과 통계\n",
        "\n",
        "독립사건, 정규 분포, 중심극한정리"
      ],
      "metadata": {
        "id": "icyBZroyInVU"
      }
    },
    {
      "cell_type": "code",
      "source": [
        "# P(A) : 사건 A가 발생할 확률\n",
        "# P(B) : 사건 B가 발생할 확률\n",
        "# P(A|B) : 사건 B가 발생한 상태에서 사건 A가 발생할 확률\n",
        "# P(A and B) : 사건 A와 사건 B가 모두 발생할 확률\n",
        "# 만약 사건 A와 사건 B가 서로 영향을 주지 않으면 독립 사건이라 한다.\n",
        "# P(A|B) = P(A) 일 때 사건 A와 사건 B는 독립 사건이다.\n",
        "# A와 B가 독립 사건일때 P(A and B) = P(A)*P(B) 공식이 성립한다."
      ],
      "metadata": {
        "id": "5kIWOmREIz6Z"
      },
      "execution_count": null,
      "outputs": []
    },
    {
      "cell_type": "code",
      "source": [
        "import math"
      ],
      "metadata": {
        "id": "o7bKYdrcKLxu"
      },
      "execution_count": null,
      "outputs": []
    },
    {
      "cell_type": "code",
      "source": [
        "pa = 1/2      # 동전을 던져서 앞면이 나올 확률\n",
        "pb = 1/6      # 주사위를 던져서 1면이 나올 확률\n",
        "pab = pa*pb\n",
        "print(pab)\n",
        "logit_pab = math.log(pa) + math.log(pb)\n",
        "inv_logit_pab = math.exp(logit_pab)\n",
        "print(inv_logit_pab)"
      ],
      "metadata": {
        "colab": {
          "base_uri": "https://localhost:8080/"
        },
        "id": "dtlL1OIeKNlB",
        "outputId": "af646950-783f-4e32-d8ce-7d9363fa7aea"
      },
      "execution_count": null,
      "outputs": [
        {
          "output_type": "stream",
          "name": "stdout",
          "text": [
            "0.08333333333333333\n",
            "0.08333333333333333\n"
          ]
        }
      ]
    },
    {
      "cell_type": "code",
      "source": [
        "# 균등분포 : 사건이 발생학 확륭이 모두 같게 분포\n",
        "def uniform_pdf(x, min_v=0, max_v=1) :\n",
        "  if(min_v <= x <= max_v) :\n",
        "    return 1/(max_v - min_v + 1)\n",
        "  return 0"
      ],
      "metadata": {
        "id": "RF8MO2rvKiaP"
      },
      "execution_count": null,
      "outputs": []
    },
    {
      "cell_type": "code",
      "source": [
        "print(uniform_pdf(1,1,6)) # 1에서 6사이의 수로 구성한 균등 분포에서 1이 나올 확률\n",
        "print(uniform_pdf(2,1,6)) # 1에서 6사이의 수로 구성한 균등 분포에서 2이 나올 확률\n",
        "print(uniform_pdf(3,1,6)) # 1에서 6사이의 수로 구성한 균등 분포에서 3이 나올 확률\n",
        "print(uniform_pdf(4,1,6)) # 1에서 6사이의 수로 구성한 균등 분포에서 4이 나올 확률\n",
        "print(uniform_pdf(5,1,6)) # 1에서 6사이의 수로 구성한 균등 분포에서 5이 나올 확률\n",
        "print(uniform_pdf(6,1,6)) # 1에서 6사이의 수로 구성한 균등 분포에서 6이 나올 확률"
      ],
      "metadata": {
        "colab": {
          "base_uri": "https://localhost:8080/"
        },
        "id": "wSPJrxlNM67e",
        "outputId": "0852d934-8e98-4ff2-c755-f943885ef29f"
      },
      "execution_count": null,
      "outputs": [
        {
          "output_type": "stream",
          "name": "stdout",
          "text": [
            "0.16666666666666666\n",
            "0.16666666666666666\n",
            "0.16666666666666666\n",
            "0.16666666666666666\n",
            "0.16666666666666666\n",
            "0.16666666666666666\n"
          ]
        }
      ]
    },
    {
      "cell_type": "code",
      "source": [
        "# 누적균등분포 : 균등분포에서 누적값\n",
        "def uniform_cdf(x, min_v=0, max_v=1) :\n",
        "  if x < min_v :\n",
        "    return 0\n",
        "  if min_v <= x <= max_v :\n",
        "    return (x-min_v+1)/(max_v-min_v+1)\n",
        "  return 1"
      ],
      "metadata": {
        "id": "9xvHFZqbNTwH"
      },
      "execution_count": null,
      "outputs": []
    },
    {
      "cell_type": "code",
      "source": [
        "print(uniform_pdf(1,1,6)) # 1에서 6사이의 수로 구성한 균등 분포에서 1이 이하가 나올 확률\n",
        "print(uniform_pdf(2,1,6)) # 1에서 6사이의 수로 구성한 균등 분포에서 2이 이하가 나올 확률\n",
        "print(uniform_pdf(3,1,6)) # 1에서 6사이의 수로 구성한 균등 분포에서 3이 이하가 나올 확률\n",
        "print(uniform_pdf(4,1,6)) # 1에서 6사이의 수로 구성한 균등 분포에서 4이 이하가 나올 확률\n",
        "print(uniform_pdf(5,1,6)) # 1에서 6사이의 수로 구성한 균등 분포에서 5이 이하가 나올 확률\n",
        "print(uniform_pdf(6,1,6)) # 1에서 6사이의 수로 구성한 균등 분포에서 6이 이하가 나올 확률"
      ],
      "metadata": {
        "colab": {
          "base_uri": "https://localhost:8080/"
        },
        "id": "LF7UiUp8Nf0h",
        "outputId": "da3f3865-40fd-44ab-ddf3-967b7b45d3de"
      },
      "execution_count": null,
      "outputs": [
        {
          "output_type": "stream",
          "name": "stdout",
          "text": [
            "0.16666666666666666\n",
            "0.16666666666666666\n",
            "0.16666666666666666\n",
            "0.16666666666666666\n",
            "0.16666666666666666\n",
            "0.16666666666666666\n"
          ]
        }
      ]
    },
    {
      "cell_type": "code",
      "source": [
        "import matplotlib.pyplot as plt"
      ],
      "metadata": {
        "id": "x-UrKEO3OH-8"
      },
      "execution_count": null,
      "outputs": []
    },
    {
      "cell_type": "code",
      "source": [
        "xs = [x for x in range(-10, 10)]\n",
        "pys = [uniform_pdf(x, 1, 6) for x in xs]\n",
        "cys = [uniform_cdf(x, 1, 6) for x in xs]\n",
        "print(xs)\n",
        "print(pys)\n",
        "print(cys)"
      ],
      "metadata": {
        "colab": {
          "base_uri": "https://localhost:8080/"
        },
        "id": "v9phZePhOyGk",
        "outputId": "e12c1cca-b9ca-4867-e2da-e9e6b5a78bc8"
      },
      "execution_count": null,
      "outputs": [
        {
          "output_type": "stream",
          "name": "stdout",
          "text": [
            "[-10, -9, -8, -7, -6, -5, -4, -3, -2, -1, 0, 1, 2, 3, 4, 5, 6, 7, 8, 9]\n",
            "[0, 0, 0, 0, 0, 0, 0, 0, 0, 0, 0, 0.16666666666666666, 0.16666666666666666, 0.16666666666666666, 0.16666666666666666, 0.16666666666666666, 0.16666666666666666, 0, 0, 0]\n",
            "[0, 0, 0, 0, 0, 0, 0, 0, 0, 0, 0, 0.16666666666666666, 0.3333333333333333, 0.5, 0.6666666666666666, 0.8333333333333334, 1.0, 1, 1, 1]\n"
          ]
        }
      ]
    },
    {
      "cell_type": "code",
      "source": [
        "flg, ax = plt.subplots(1,2) # 1X2 도면을 만들어 주세요.\n",
        "ax[0].plot(xs, pys, \"b.\", label=\"pdf\")\n",
        "ax[1].plot(xs, cys, \"r.\", label=\"cdf\")\n",
        "plt.show()"
      ],
      "metadata": {
        "colab": {
          "base_uri": "https://localhost:8080/",
          "height": 269
        },
        "id": "T4QoUwZ-PCCf",
        "outputId": "7752e0f5-62c9-410d-b363-da174a37f8e7"
      },
      "execution_count": null,
      "outputs": [
        {
          "output_type": "display_data",
          "data": {
            "text/plain": [
              "<Figure size 432x288 with 2 Axes>"
            ],
            "image/png": "[encoded data removed]"
          },
          "metadata": {
            "needs_background": "light"
          }
        }
      ]
    },
    {
      "cell_type": "code",
      "source": [
        "# 정규분포함수\n",
        "def normal_pdf(x, mu=0, sigma=1) :\n",
        "  pre = 1/(sigma*math.sqrt(2*math.pi))\n",
        "  post = math.exp(-((x-mu)**2)/(2*(sigma**2)))\n",
        "  return pre*post"
      ],
      "metadata": {
        "id": "8qhbiOfuPlC7"
      },
      "execution_count": null,
      "outputs": []
    },
    {
      "cell_type": "code",
      "source": [
        "xs = [x/10.0 for x in range(-50, 51)]\n",
        "ys1 = [normal_pdf(x) for x in xs]\n",
        "ys2 = [normal_pdf(x,sigma=0.2) for x in xs]\n",
        "ys3 = [normal_pdf(x,sigma=2.0) for x in xs]\n",
        "ys4 = [normal_pdf(x,mu=-2,sigma=0.5) for x in xs]\n",
        "ys5 = [normal_pdf(x,mu=-2,sigma=1.0) for x in xs]\n",
        "plt.figure(figsize=(6,4))\n",
        "plt.plot(xs, ys1, '-', label='mu=0, sigma=1')\n",
        "plt.plot(xs, ys2, '--', label='mu=0, sigma=0.2')\n",
        "plt.plot(xs, ys3, ':', label='mu=0, sigma=2.0')\n",
        "plt.plot(xs, ys4, '-.', label='mu=-2, sigma=0.5')\n",
        "plt.plot(xs, ys5, '-.', label='mu=-2, sigma=1.0')\n",
        "plt.legend()\n",
        "plt.show()"
      ],
      "metadata": {
        "colab": {
          "base_uri": "https://localhost:8080/",
          "height": 265
        },
        "id": "G_t-2JyLVb-S",
        "outputId": "f55257d5-07a6-4aad-86c3-2cf91fb9b922"
      },
      "execution_count": null,
      "outputs": [
        {
          "output_type": "display_data",
          "data": {
            "text/plain": [
              "<Figure size 432x288 with 1 Axes>"
            ],
            "image/png": "[encoded data removed]"
          },
          "metadata": {
            "needs_background": "light"
          }
        }
      ]
    },
    {
      "cell_type": "code",
      "source": [
        "import scipy.stats as st\n",
        "xs = [x/10.0 for x in range(-50, 51)]\n",
        "ys1 = [st.norm.pdf(x) for x in xs]\n",
        "ys2 = [st.norm.pdf(x,scale=0.2) for x in xs]\n",
        "ys3 = [st.norm.pdf(x,scale=2.0) for x in xs]\n",
        "ys4 = [st.norm.pdf(x,loc=-2,scale=0.5) for x in xs]\n",
        "ys5 = [st.norm.pdf(x,loc=-2,scale=1.0) for x in xs]\n",
        "plt.figure(figsize=(6,4))\n",
        "plt.plot(xs, ys1, '-', label='mu=0, sigma=1')\n",
        "plt.plot(xs, ys2, '--', label='mu=0, sigma=0.2')\n",
        "plt.plot(xs, ys3, ':', label='mu=0, sigma=2.0')\n",
        "plt.plot(xs, ys4, '-.', label='mu=-2, sigma=0.5')\n",
        "plt.plot(xs, ys5, '-.', label='mu=-2, sigma=1.0')\n",
        "plt.legend()\n",
        "plt.show()"
      ],
      "metadata": {
        "colab": {
          "base_uri": "https://localhost:8080/",
          "height": 265
        },
        "id": "MkojW49eVsHn",
        "outputId": "5621acf8-ef00-484b-ee5c-17c397d5a7db"
      },
      "execution_count": null,
      "outputs": [
        {
          "output_type": "display_data",
          "data": {
            "text/plain": [
              "<Figure size 432x288 with 1 Axes>"
            ],
            "image/png": "[encoded data removed]"
          },
          "metadata": {
            "needs_background": "light"
          }
        }
      ]
    },
    {
      "cell_type": "code",
      "source": [
        "def normal_cdf(x, mu=0, sigma=1) : # 정규누적분포\n",
        "  return ( 1+(math.erf( (x-mu) / (math.sqrt(2) * sigma)  )) ) / 2  "
      ],
      "metadata": {
        "id": "gM2-zPwNYKWD"
      },
      "execution_count": null,
      "outputs": []
    },
    {
      "cell_type": "code",
      "source": [
        "import scipy.stats as st\n",
        "xs = [x/10.0 for x in range(-50, 51)]\n",
        "ys1 = [st.norm.cdf(x) for x in xs]\n",
        "ys2 = [st.norm.cdf(x,scale=0.2) for x in xs]\n",
        "ys3 = [st.norm.cdf(x,scale=2.0) for x in xs]\n",
        "ys4 = [st.norm.cdf(x,loc=-2,scale=0.5) for x in xs]\n",
        "\n",
        "plt.figure(figsize=(6,5))\n",
        "plt.plot(xs, ys1, '-', label='mu=0, sigma=1')\n",
        "plt.plot(xs, ys2, '--', label='mu=0, sigma=0.2')\n",
        "plt.plot(xs, ys3, ':', label='mu=0, sigma=2.0')\n",
        "plt.plot(xs, ys4, '-.', label='mu=-2, sigma=0.5')\n",
        "\n",
        "plt.legend()\n",
        "plt.show()"
      ],
      "metadata": {
        "colab": {
          "base_uri": "https://localhost:8080/",
          "height": 320
        },
        "id": "nlGxNK2IaTL1",
        "outputId": "6285cec0-6fa2-4829-933e-7e5f3cd0a20c"
      },
      "execution_count": null,
      "outputs": [
        {
          "output_type": "display_data",
          "data": {
            "text/plain": [
              "<Figure size 432x360 with 1 Axes>"
            ],
            "image/png": "[encoded data removed]"
          },
          "metadata": {
            "needs_background": "light"
          }
        }
      ]
    },
    {
      "cell_type": "code",
      "source": [
        "def ber_trial(p) :\n",
        "  return 1 if np.random.random() < p else 0"
      ],
      "metadata": {
        "id": "bLpzINLWanoA"
      },
      "execution_count": null,
      "outputs": []
    },
    {
      "cell_type": "code",
      "source": [
        "cnt = 0\n",
        "for _ in range(120) :\n",
        "  re = ber_trial(1/6)\n",
        "  print(re, end=' ')\n",
        "  if re == 1 :\n",
        "    cnt += 1\n",
        "print()\n",
        "print(cnt)  "
      ],
      "metadata": {
        "colab": {
          "base_uri": "https://localhost:8080/"
        },
        "id": "tfor4G2NbiZG",
        "outputId": "77b881f4-ee04-4550-c507-a51e340cb8c4"
      },
      "execution_count": null,
      "outputs": [
        {
          "output_type": "stream",
          "name": "stdout",
          "text": [
            "1 1 0 0 0 1 1 0 0 0 0 1 0 0 0 0 0 0 0 0 0 0 0 0 0 0 0 0 0 0 0 0 0 0 0 0 1 1 0 0 0 0 0 0 0 1 1 0 0 0 0 0 1 0 0 0 0 0 0 0 1 0 1 0 0 0 0 1 0 1 0 0 0 0 0 0 1 0 0 0 0 0 0 0 0 0 0 0 1 0 0 0 0 0 0 0 0 0 0 1 0 0 0 1 0 0 0 1 0 0 0 0 0 1 0 0 0 0 0 0 \n",
            "20\n"
          ]
        }
      ]
    },
    {
      "cell_type": "code",
      "source": [
        "def ber(n,p) :      # p확률의 사건을 n번 시행\n",
        "  return sum(ber_trial(p) for _ in range(n))  "
      ],
      "metadata": {
        "id": "zOFRTFuccBGx"
      },
      "execution_count": null,
      "outputs": []
    },
    {
      "cell_type": "code",
      "source": [
        "for _ in range(20) :\n",
        "  print(ber(120, 1/6), end = '.')\n",
        "print()"
      ],
      "metadata": {
        "colab": {
          "base_uri": "https://localhost:8080/"
        },
        "id": "6SQANVsbcJfo",
        "outputId": "4acddb81-4ddf-4aa8-b481-1b076d7f2085"
      },
      "execution_count": null,
      "outputs": [
        {
          "output_type": "stream",
          "name": "stdout",
          "text": [
            "26.19.18.22.27.25.21.27.14.21.22.10.14.19.19.23.21.24.16.20.\n"
          ]
        }
      ]
    },
    {
      "cell_type": "code",
      "source": [
        "from collections import Counter"
      ],
      "metadata": {
        "id": "1WGPNdVHdZw-"
      },
      "execution_count": null,
      "outputs": []
    },
    {
      "cell_type": "code",
      "source": [
        "def ber_hist(p,n,nps) :     # p확률의 사건을 n번 시행하는 실험을 nps번 수행\n",
        "  data = [ ber(n,p) for _ in range(nps) ]\n",
        "  hist = Counter(data)\n",
        "\n",
        "  mu = n*p # 기대값\n",
        "  sigma = math.sqrt(n*p*(1-p))  # 표준편차\n",
        "\n",
        "  xs = range(min(data), max(data),1)\n",
        "  ys = [normal_pdf(i, mu, sigma) for i in xs]\n",
        "  plt.bar(hist.keys(),[v/nps for v in hist.values()],color='r')\n",
        "  plt.plot(xs,ys)\n",
        "  plt.title(\"ber histogram\")\n",
        "  plt.show()\n",
        "  return data"
      ],
      "metadata": {
        "id": "vOJUFZmxcznM"
      },
      "execution_count": null,
      "outputs": []
    },
    {
      "cell_type": "code",
      "source": [
        "data = ber_hist(1/6, 1200, 12000)"
      ],
      "metadata": {
        "colab": {
          "base_uri": "https://localhost:8080/",
          "height": 281
        },
        "id": "iwyHS-TeesLI",
        "outputId": "44819405-a664-4aac-b5a3-28cf4533aec7"
      },
      "execution_count": null,
      "outputs": [
        {
          "output_type": "display_data",
          "data": {
            "text/plain": [
              "<Figure size 432x288 with 1 Axes>"
            ],
            "image/png": "[encoded data removed]"
          },
          "metadata": {
            "needs_background": "light"
          }
        }
      ]
    },
    {
      "cell_type": "code",
      "source": [],
      "metadata": {
        "id": "qyRjObQ7euJg"
      },
      "execution_count": null,
      "outputs": []
    }
  ]
}